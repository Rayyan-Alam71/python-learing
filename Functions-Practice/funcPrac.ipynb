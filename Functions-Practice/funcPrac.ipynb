{
 "cells": [
  {
   "cell_type": "markdown",
   "metadata": {},
   "source": [
    "# Temperature Conversion\n"
   ]
  },
  {
   "cell_type": "code",
   "execution_count": 2,
   "metadata": {},
   "outputs": [
    {
     "name": "stdout",
     "output_type": "stream",
     "text": [
      "36.88888888888889\n",
      "99.32\n"
     ]
    }
   ],
   "source": [
    "def convert_temp(temp, unit):\n",
    "    \"\"\"This function converts temeratuee between celsius and fahrenheit\"\"\"\n",
    "\n",
    "    if(unit == 'C'):\n",
    "        return temp *(9/5) +32\n",
    "    elif unit == 'F':\n",
    "        return (temp - 32)*(5/9)\n",
    "    else:\n",
    "        print(\"Inappropriate unitfor conversion\")\n",
    "        return -1\n",
    "    \n",
    "print(convert_temp(98.4, 'F'))\n",
    "print(convert_temp(37.4, 'C'))"
   ]
  },
  {
   "cell_type": "code",
   "execution_count": 3,
   "metadata": {},
   "outputs": [],
   "source": [
    "## Password Strenght Checker"
   ]
  },
  {
   "cell_type": "code",
   "execution_count": 10,
   "metadata": {},
   "outputs": [
    {
     "name": "stdout",
     "output_type": "stream",
     "text": [
      "This is a strong Password\n",
      "True\n",
      "Password must have atleast 1 upper character\n",
      "False\n"
     ]
    }
   ],
   "source": [
    "def is_strong_pass(password):\n",
    "    if len(password)<8:\n",
    "        return False\n",
    "    \n",
    "    if not any(char.isdigit() for char in password): # if there exist no digit in the passeord, it is a weak password\n",
    "        print(\"password must have atleast 1 digit\")\n",
    "        return False\n",
    "    \n",
    "    if not any(char.islower() for char in password):\n",
    "        print(\"Password must have atleast 1 lower character\")\n",
    "        return False\n",
    "    \n",
    "    if not any(char.isupper() for char in password):\n",
    "        print(\"Password must have atleast 1 upper character\")\n",
    "        return False\n",
    "    if not any(char in '!@#$%^&*_-+' for char in password):\n",
    "        print(\"Password must have atleast 1 symbol character\")\n",
    "        return False\n",
    "    \n",
    "    print(\"This is a strong Password\")\n",
    "    return True\n",
    "    \n",
    "print(is_strong_pass('r2ayyaN@'))\n",
    "print(is_strong_pass('r2ayyan@'))"
   ]
  },
  {
   "cell_type": "code",
   "execution_count": 11,
   "metadata": {},
   "outputs": [],
   "source": [
    "## Calculate the total cost of items in a shopping cart\n"
   ]
  },
  {
   "cell_type": "code",
   "execution_count": 17,
   "metadata": {},
   "outputs": [
    {
     "name": "stdout",
     "output_type": "stream",
     "text": [
      "1682\n"
     ]
    }
   ],
   "source": [
    "def calculate_total_price(cart): # this cart can be a dictionary \n",
    "    total_cost =0\n",
    "    for item in cart:\n",
    "        total_cost += (item['price'] * item['quantity'])\n",
    "    return total_cost\n",
    "\n",
    "\n",
    "\n",
    "\n",
    "\n",
    "\n",
    "cart=[\n",
    "    {'name':'apple', 'price':20, 'quantity':42},\n",
    "    {'name':'oranges', 'price':21, 'quantity':32},\n",
    "    {'name':'shirt', 'price':43, 'quantity':2},\n",
    "    {'name':'box', 'price':12, 'quantity':7},\n",
    "]\n",
    "\n",
    "print(calculate_total_price(cart))"
   ]
  },
  {
   "cell_type": "code",
   "execution_count": 18,
   "metadata": {},
   "outputs": [],
   "source": [
    "## check if a string is a PALINDROME \n"
   ]
  },
  {
   "cell_type": "code",
   "execution_count": 22,
   "metadata": {},
   "outputs": [
    {
     "name": "stdout",
     "output_type": "stream",
     "text": [
      "amanaplanacanalpanama\n",
      "amanaplanacanalpanama\n",
      "True\n"
     ]
    }
   ],
   "source": [
    "def is_palindrome(str):\n",
    "    str = str.lower().replace(\" \",\"\")\n",
    "    if str == str[::-1]:\n",
    "        print(str)\n",
    "        print(str[::-1])\n",
    "        return True\n",
    "    return False\n",
    "\n",
    "print(is_palindrome(\"A man a plan a canal Panama\"))"
   ]
  },
  {
   "cell_type": "code",
   "execution_count": 24,
   "metadata": {},
   "outputs": [
    {
     "name": "stdout",
     "output_type": "stream",
     "text": [
      "120\n",
      "120\n"
     ]
    }
   ],
   "source": [
    "## calculate the factorial of a number using recursion\n",
    "\n",
    "# using recursive method\n",
    "def factorial(n):\n",
    "    if n == 1:\n",
    "        return 1\n",
    "    return n*factorial(n-1)\n",
    "\n",
    "# using iterative method\n",
    "\n",
    "def fact(n):\n",
    "    i=1\n",
    "    ans=1\n",
    "    while i<=n:\n",
    "        ans = ans*i\n",
    "        i +=1\n",
    "    return ans\n",
    "print(factorial(5))\n",
    "print(fact(5))"
   ]
  },
  {
   "cell_type": "code",
   "execution_count": 29,
   "metadata": {},
   "outputs": [
    {
     "name": "stdout",
     "output_type": "stream",
     "text": [
      "{'have': 3, 'you': 1, 'read': 2, 'this': 1, 'file': 1, '': 2, 'if': 1, \"you've\": 1, 'then': 1, 'tell': 1, 'me': 1, 'how': 1, 'many': 1, 'times': 1, 'i': 1, 'used': 1, 'the': 1, 'word': 1}\n"
     ]
    }
   ],
   "source": [
    "## A function to read a file and coun the frequency of each word    \n",
    "\n",
    "def count_word_freq(filePath):\n",
    "    word_count={}\n",
    "\n",
    "    with open(filePath, 'r') as file: # this opens(reads) the file in read mode\n",
    "\n",
    "        for line in file : # this iterates through each line\n",
    "            words = line.split() # this splits the line into its constnt. word\n",
    "            for word in words:\n",
    "                word = word.lower().strip('.,!?:;\"')\n",
    "                word_count[word] = word_count.get(word, 0)+1\n",
    "\n",
    "    return word_count\n",
    "\n",
    "print(count_word_freq('./sample.txt'))\n"
   ]
  },
  {
   "cell_type": "code",
   "execution_count": 32,
   "metadata": {},
   "outputs": [
    {
     "name": "stdout",
     "output_type": "stream",
     "text": [
      "True\n"
     ]
    }
   ],
   "source": [
    "import json\n",
    "import re\n",
    "\n",
    "def is_valid_email(email):\n",
    "    # Corrected regex pattern\n",
    "    pattern = r'^[a-zA-Z0-9_.+-]+@[a-zA-Z0-9-]+\\.[a-zA-Z0-9-.]+$'\n",
    "    return re.match(pattern, email) is not None\n",
    "\n",
    "print(is_valid_email(\"rayyan@gmail.com\"))  # Output: True\n"
   ]
  },
  {
   "cell_type": "code",
   "execution_count": null,
   "metadata": {},
   "outputs": [],
   "source": []
  },
  {
   "cell_type": "code",
   "execution_count": null,
   "metadata": {},
   "outputs": [],
   "source": []
  },
  {
   "cell_type": "code",
   "execution_count": null,
   "metadata": {},
   "outputs": [],
   "source": []
  }
 ],
 "metadata": {
  "kernelspec": {
   "display_name": "venv",
   "language": "python",
   "name": "python3"
  },
  "language_info": {
   "codemirror_mode": {
    "name": "ipython",
    "version": 3
   },
   "file_extension": ".py",
   "mimetype": "text/x-python",
   "name": "python",
   "nbconvert_exporter": "python",
   "pygments_lexer": "ipython3",
   "version": "3.12.0"
  }
 },
 "nbformat": 4,
 "nbformat_minor": 2
}
