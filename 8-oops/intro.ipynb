{
 "cells": [
  {
   "cell_type": "markdown",
   "metadata": {},
   "source": [
    "# Classes and Objects   \n",
    "OOPS is a programming paradigm that uses \"objects\" to design applictions and computer programs. OOP allows for modellign real-world scenarios using objects."
   ]
  },
  {
   "cell_type": "code",
   "execution_count": 8,
   "metadata": {},
   "outputs": [
    {
     "name": "stdout",
     "output_type": "stream",
     "text": [
      "<class '__main__.Car'>\n",
      "<__main__.Car object at 0x0000019DD5D5A0F0>\n",
      "<class '__main__.Car'>\n",
      "<__main__.Car object at 0x0000019DD5C367E0>\n"
     ]
    }
   ],
   "source": [
    "### A class is a blue-print for creating objects, attributes and methods\n",
    "\n",
    "class Car:\n",
    "    pass\n",
    "\n",
    "audi = Car() # instantiated an object named \"audi\" of class \"Car\"\n",
    "bmw = Car()\n",
    "\n",
    "print(type(audi))\n",
    "print(audi) # object at memory \n",
    "print(type(bmw))\n",
    "print(bmw)\n",
    "\n",
    "\n",
    "dir(audi) # a list of methods of car object"
   ]
  },
  {
   "cell_type": "code",
   "execution_count": 14,
   "metadata": {},
   "outputs": [
    {
     "name": "stdout",
     "output_type": "stream",
     "text": [
      "timmy\n",
      "12\n",
      "khan\n",
      "7\n"
     ]
    }
   ],
   "source": [
    "## Instance variable and methods\n",
    "class Dog:\n",
    "    ## Constructor\n",
    "    def __init__(self, name, age):\n",
    "        self.name = name # this name is the instance variable of Dog class\n",
    "        self.age = age # this age is -----\n",
    "    # name and age are attributes for Dog class\n",
    "\n",
    "\n",
    "    def \n",
    "\n",
    "dog1 = Dog(\"timmy\", 12)\n",
    "print(dog1.name)\n",
    "print(dog1.age)\n",
    "\n",
    "dog2 = Dog(\"khan\", 7)\n",
    "print(dog2.name)\n",
    "print(dog2.age)\n",
    "\n",
    "\n",
    "\n",
    "\n"
   ]
  },
  {
   "cell_type": "code",
   "execution_count": 17,
   "metadata": {},
   "outputs": [
    {
     "name": "stdout",
     "output_type": "stream",
     "text": [
      "buddy makes sound buddyoooo\n",
      "lucy makes sound lucyoooo\n",
      "krstis makes sound krstisoooo\n"
     ]
    }
   ],
   "source": [
    "# define a class with instance method\n",
    "\n",
    "class Dog:\n",
    "    def __init__(self, name, age):\n",
    "        self.name = name\n",
    "        self.age = age\n",
    "\n",
    "    def bark(self):\n",
    "        print(f\"{self.name} makes sound {self.name}oooo\")\n",
    "\n",
    "dog1= Dog(\"buddy\", 11)\n",
    "dog1.bark()\n",
    "dog2= Dog(\"lucy\", 2)\n",
    "dog2.bark()\n",
    "dog3= Dog(\"krstis\", 11)\n",
    "dog3.bark()"
   ]
  },
  {
   "cell_type": "code",
   "execution_count": 18,
   "metadata": {},
   "outputs": [
    {
     "name": "stdout",
     "output_type": "stream",
     "text": [
      "1000\n",
      "299 is deposited. New balance is 1299\n",
      "1299\n",
      "321 is withdrawn. Net balance is 978\n",
      "978\n"
     ]
    }
   ],
   "source": [
    "### Modelling a Bank account\n",
    "\n",
    "## deinfe a class for bank account\n",
    "\n",
    "class BankAccount:\n",
    "\n",
    "    #constructor\n",
    "    # these are my attributes\n",
    "    def __init__(self, owner, balance=0):\n",
    "        self.owner = owner\n",
    "        self.balance = balance\n",
    "    \n",
    "    def deposit(self, amount):\n",
    "        self.balance += amount\n",
    "        print(f\"{amount} is deposited. New balance is {self.balance}\")\n",
    "\n",
    "    def withdraw(self, amount):\n",
    "        if amount > self.balance:\n",
    "            print(\"insufficient funds\")\n",
    "        else:\n",
    "            self.balance -= amount\n",
    "            print(f\"{amount} is withdrawn. Net balance is {self.balance}\")\n",
    "\n",
    "    def getBalance(self):\n",
    "        return self.balance\n",
    "\n",
    "## create an object\n",
    "# \n",
    "account = BankAccount(\"kirat\", 1000)\n",
    "print(account.getBalance())\n",
    "\n",
    "account.deposit(299)\n",
    "print(account.getBalance())\n",
    "\n",
    "account.withdraw(321)\n",
    "print(account.getBalance())"
   ]
  },
  {
   "cell_type": "markdown",
   "metadata": {},
   "source": [
    "### Inheritance in Python"
   ]
  },
  {
   "cell_type": "markdown",
   "metadata": {},
   "source": [
    "Inheritance is a fundamental concept in OOPS that allows a aclass to inherit attributes and methods from another class."
   ]
  },
  {
   "cell_type": "code",
   "execution_count": 21,
   "metadata": {},
   "outputs": [
    {
     "name": "stdout",
     "output_type": "stream",
     "text": [
      "The person will drive petrol type car\n",
      "The person will drive petrol type car\n",
      "None\n"
     ]
    }
   ],
   "source": [
    "## Inheritance Examples\n",
    "\n",
    "## Parent class definition\n",
    "class Car:\n",
    "    #constructor\n",
    "\n",
    "    def __init__(self, windows, doors, engineType):\n",
    "        self.windows = windows\n",
    "        self.doors = doors\n",
    "        self.engineType = engineType\n",
    "    \n",
    "    def drive(self):\n",
    "        print(f\"The person will drive {self.engineType} type car\")\n",
    "\n",
    "car1 = Car(4, 5, \"petrol\")\n",
    "car1.drive()\n",
    "print(car1.drive()) # drive() is not returnong anything, hence returning none"
   ]
  },
  {
   "cell_type": "code",
   "execution_count": 22,
   "metadata": {},
   "outputs": [],
   "source": [
    "# Tesla inhereting from Car class\n",
    "\n",
    "class Tesla(Car) :\n",
    "    def __init__(self, windows, doors, engineType, isSelfDriving):\n",
    "        super().__init__(windows, doors, engineType) # i am trying to call the parent class and call the init method from there\n",
    "        self.isSelfDriving = isSelfDriving"
   ]
  },
  {
   "cell_type": "code",
   "execution_count": 25,
   "metadata": {},
   "outputs": [
    {
     "ename": "NameError",
     "evalue": "name 'true' is not defined",
     "output_type": "error",
     "traceback": [
      "\u001b[1;31m---------------------------------------------------------------------------\u001b[0m",
      "\u001b[1;31mNameError\u001b[0m                                 Traceback (most recent call last)",
      "Cell \u001b[1;32mIn[25], line 1\u001b[0m\n\u001b[1;32m----> 1\u001b[0m tsla \u001b[38;5;241m=\u001b[39m Tesla(\u001b[38;5;241m4\u001b[39m, \u001b[38;5;241m5\u001b[39m, \u001b[38;5;124m\"\u001b[39m\u001b[38;5;124mev\u001b[39m\u001b[38;5;124m\"\u001b[39m, \u001b[43mtrue\u001b[49m)\n\u001b[0;32m      2\u001b[0m tsla\u001b[38;5;241m.\u001b[39mdrive()\n\u001b[0;32m      3\u001b[0m \u001b[38;5;28mprint\u001b[39m(tsla\u001b[38;5;241m.\u001b[39misSelfDriving)\n",
      "\u001b[1;31mNameError\u001b[0m: name 'true' is not defined"
     ]
    }
   ],
   "source": [
    "tsla = Tesla(4, 5, \"ev\", True)\n",
    "tsla.drive()\n",
    "print(tsla.isSelfDriving)"
   ]
  },
  {
   "cell_type": "code",
   "execution_count": null,
   "metadata": {},
   "outputs": [],
   "source": []
  },
  {
   "cell_type": "code",
   "execution_count": null,
   "metadata": {},
   "outputs": [],
   "source": []
  }
 ],
 "metadata": {
  "kernelspec": {
   "display_name": "venv",
   "language": "python",
   "name": "python3"
  },
  "language_info": {
   "codemirror_mode": {
    "name": "ipython",
    "version": 3
   },
   "file_extension": ".py",
   "mimetype": "text/x-python",
   "name": "python",
   "nbconvert_exporter": "python",
   "pygments_lexer": "ipython3",
   "version": "3.12.0"
  }
 },
 "nbformat": 4,
 "nbformat_minor": 2
}
