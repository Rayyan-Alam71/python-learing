{
 "cells": [
  {
   "cell_type": "markdown",
   "metadata": {},
   "source": [
    "### Introduction to conditional statements\n"
   ]
  },
  {
   "cell_type": "code",
   "execution_count": 13,
   "metadata": {},
   "outputs": [
    {
     "name": "stdout",
     "output_type": "stream",
     "text": [
      "u are allowed to vote in the election\n"
     ]
    }
   ],
   "source": [
    "## if-else statement \n",
    "\n",
    "age =20\n",
    "# if statement executes an statement if it is true, and else with the situation if the condition in the if condition is false\n",
    "if age >= 18 :\n",
    "    print(\"u are allowed to vote in the election\")\n",
    "else:\n",
    "    print(\"u are a minor currently\")"
   ]
  },
  {
   "cell_type": "code",
   "execution_count": 17,
   "metadata": {},
   "outputs": [
    {
     "name": "stdout",
     "output_type": "stream",
     "text": [
      "u are on the border\n"
     ]
    }
   ],
   "source": [
    "## elif statement\n",
    "    # it allows u to check for multiple conditions\n",
    "\n",
    "age = 18\n",
    "if age < 13:\n",
    "    print(\"u are a child\")\n",
    "elif age < 18:\n",
    "    print(\"u are a teenager\")\n",
    "elif age==18:\n",
    "    print(\"u are on the border\")\n",
    "else:\n",
    "    print(\"u are an adult\")"
   ]
  },
  {
   "cell_type": "code",
   "execution_count": 21,
   "metadata": {},
   "outputs": [
    {
     "name": "stdout",
     "output_type": "stream",
     "text": [
      "the number is 0\n"
     ]
    }
   ],
   "source": [
    "## Nested conditional statements\n",
    "    # combination of if, elif, else statement to create nested conditional condition\n",
    "\n",
    "number =int(input(\"Enter the number\"))\n",
    "\n",
    "if number>0:\n",
    "    print(\"the number is positive\")\n",
    "\n",
    "    if number%2 == 0:\n",
    "        print(\"number is positive even\")\n",
    "    else:\n",
    "        print(\"the number is positive odd\")\n",
    "\n",
    "elif number == 0:\n",
    "    print(\"the number is 0\")\n",
    "else:\n",
    "    print(\"The number is negative\")\n",
    "\n",
    "    if number%2 == 0:\n",
    "        print(\"number is negative even\")\n",
    "    else:\n",
    "        print(\"the number is negative odd\")\n",
    "\n",
    "\n",
    "\n"
   ]
  },
  {
   "cell_type": "code",
   "execution_count": null,
   "metadata": {},
   "outputs": [],
   "source": [
    "## Use-cases\n",
    "\n",
    "## Determine if a year is a leap year\n",
    "\n",
    "year = int(input(\"Enter the year\"))\n",
    "\n",
    "if year % 4 == 0:\n",
    "    if year % 100 == 0:\n",
    "        if year % 400 == 0:\n",
    "            print(\"is a leap year\")\n",
    "        else:\n",
    "            print(\"is not a leap year\")\n",
    "    else:\n",
    "        print(\"is a leap year\")\n",
    "else:\n",
    "    print(\"is not a leap year\")\n",
    "\n",
    "# if (year % 4 == 0 and year % 100 != 0) or (year % 400 == 0):\n",
    "#     print(\"is a leap year\")\n",
    "# else:\n",
    "#     print(\"is not a leap year\")\n"
   ]
  },
  {
   "cell_type": "code",
   "execution_count": null,
   "metadata": {},
   "outputs": [],
   "source": [
    "## simple calculator\n",
    "\n",
    "num1 = int(input(\"Enter the first number\"))\n",
    "num2 = int(input(\"Enter the second number\"))\n",
    "operation = str(input(\"Enter the operation\"))\n",
    "result=0\n",
    "\n",
    "if operation == \"+\":\n",
    "    result = num1+num2\n",
    "elif operation == \"-\":\n",
    "    result=num1-num2\n",
    "elif operation == \"*\":\n",
    "    result =num1*num2\n",
    "elif operation == \"/\":\n",
    "    if num2 != 0:\n",
    "        result = num1/num2\n",
    "    else:\n",
    "        result=\"division by zero is invalid\"\n",
    "else:\n",
    "    print(\"invalid number(s) or operation\")\n",
    "\n",
    "print(result,\"is the result \")"
   ]
  },
  {
   "cell_type": "markdown",
   "metadata": {},
   "source": [
    "### Introduction to loops\n"
   ]
  },
  {
   "cell_type": "code",
   "execution_count": null,
   "metadata": {},
   "outputs": [],
   "source": [
    "## for loop:\n",
    "range(5) # => 0 to 5\n",
    "num = 12\n",
    "# for i in range(num):\n",
    "    # print(i)\n",
    "\n",
    "# for i in range(1,5):\n",
    "#     print(i)\n",
    "\n",
    "for i in range(1,5,1): # increment 1 at a time\n",
    "    print(i)\n",
    "print(\"-----\")\n",
    "for i in range(1,10,2): # increment 2 at a time\n",
    "    print(i)\n",
    "print(\"------\")\n",
    "\n",
    "for i in range(10, 1, -1): # decrement 1 at a time from 10 to 1(excluded)\n",
    "    print(i)"
   ]
  },
  {
   "cell_type": "code",
   "execution_count": null,
   "metadata": {},
   "outputs": [],
   "source": [
    "## strings\n",
    "\n",
    "str=\"ray yan\"\n",
    "\n",
    "for i in str:\n",
    "    print(i)"
   ]
  },
  {
   "cell_type": "code",
   "execution_count": null,
   "metadata": {},
   "outputs": [],
   "source": [
    "## while loop => continues to execute as long as the condition is true\n",
    "\n",
    "count=0\n",
    "\n",
    "while count<=5:\n",
    "    print(count, \"less than or equal to 5\")\n",
    "    count=count+1\n",
    "\n",
    "cnt = 0 \n",
    "\n",
    "while cnt<=100:\n",
    "    if cnt%2==0:\n",
    "        print(cnt, \"is even\")\n",
    "    else:\n",
    "        print(cnt, \"is odd\")\n",
    "    cnt=cnt+10\n"
   ]
  },
  {
   "cell_type": "code",
   "execution_count": null,
   "metadata": {},
   "outputs": [],
   "source": [
    "## Loop control statements\n",
    "\n",
    "# break : \"break\" statement exits the loop prematurely\n",
    "\n",
    "for i in range(1,10):\n",
    "    if i == 6 : break\n",
    "    # print(i)\n",
    "\n",
    "# continue : \"continue\" skips the current iteration and continues with the next\n",
    "# print(\"in the range of \")\n",
    "for i in range(1,10):\n",
    "    if(i % 2 == 0): continue\n",
    "    # print(i,\"is odd\")\n",
    "\n",
    "# pass : \"pass\" is a null operation, it does nothing\n",
    "\n",
    "for i in range(5):\n",
    "    if(i == 3):\n",
    "        print(\"the number is \", i)\n",
    "        pass\n",
    "    print(i)"
   ]
  },
  {
   "cell_type": "code",
   "execution_count": null,
   "metadata": {},
   "outputs": [],
   "source": [
    "## Nested loops => loop(s) inside loop(s)\n",
    "\n",
    "for i in range(3):\n",
    "    for j in range(2):\n",
    "        print(f\"i : {i} and j : {j}\") # is just like literal template of js\n",
    "\n"
   ]
  },
  {
   "cell_type": "code",
   "execution_count": 73,
   "metadata": {},
   "outputs": [
    {
     "name": "stdout",
     "output_type": "stream",
     "text": [
      "the sum is 55\n",
      "the sum is 55\n"
     ]
    }
   ],
   "source": [
    "## Examples - Calculate the sum of first n natural number using while and for loop\n",
    "\n",
    "n = int(input(\"Enter the number\"))\n",
    "sum =0\n",
    "i =1\n",
    "while(i<=n ):\n",
    "    sum = sum +i\n",
    "    i = i+1\n",
    "print(\"the sum is\", sum)\n",
    "\n",
    "sum2=0\n",
    "for i2 in range(n+1):\n",
    "    sum2=sum2+i2\n",
    "print(\"the sum is\", sum2)"
   ]
  },
  {
   "cell_type": "code",
   "execution_count": 75,
   "metadata": {},
   "outputs": [
    {
     "name": "stdout",
     "output_type": "stream",
     "text": [
      "1\n",
      "2\n",
      "3\n",
      "5\n",
      "7\n",
      "11\n",
      "13\n",
      "17\n",
      "19\n",
      "23\n",
      "29\n",
      "31\n",
      "37\n",
      "41\n",
      "43\n",
      "47\n",
      "53\n",
      "59\n",
      "61\n",
      "67\n",
      "71\n",
      "73\n",
      "79\n",
      "83\n",
      "89\n",
      "97\n"
     ]
    }
   ],
   "source": [
    "# prime numbers between 1 nd 100\n",
    "\n",
    "for i in range(1,101):\n",
    "    is_prime = True\n",
    "    for j in range(1,i):\n",
    "        if i!=j and j!=1 and i % j ==0:\n",
    "            is_prime = False\n",
    "    if is_prime == True:\n",
    "        print(i)"
   ]
  },
  {
   "cell_type": "code",
   "execution_count": null,
   "metadata": {},
   "outputs": [],
   "source": []
  }
 ],
 "metadata": {
  "kernelspec": {
   "display_name": "venv",
   "language": "python",
   "name": "python3"
  },
  "language_info": {
   "codemirror_mode": {
    "name": "ipython",
    "version": 3
   },
   "file_extension": ".py",
   "mimetype": "text/x-python",
   "name": "python",
   "nbconvert_exporter": "python",
   "pygments_lexer": "ipython3",
   "version": "3.12.0"
  }
 },
 "nbformat": 4,
 "nbformat_minor": 2
}
