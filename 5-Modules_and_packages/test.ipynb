{
 "cells": [
  {
   "cell_type": "markdown",
   "metadata": {},
   "source": [
    "In python, modules and packages help organize and reuse code"
   ]
  },
  {
   "cell_type": "code",
   "execution_count": 2,
   "metadata": {},
   "outputs": [
    {
     "name": "stdout",
     "output_type": "stream",
     "text": [
      "4.0\n"
     ]
    }
   ],
   "source": [
    "# importing module\n",
    "import math\n",
    "\n",
    "print(math.sqrt(16))"
   ]
  },
  {
   "cell_type": "code",
   "execution_count": 5,
   "metadata": {},
   "outputs": [
    {
     "name": "stdout",
     "output_type": "stream",
     "text": [
      "4.0\n",
      "1.7724538509055159\n"
     ]
    }
   ],
   "source": [
    "# importing particular package(s) from module\n",
    "# SYNTAX => from 'modules_name' import 'package_name'\n",
    "from math import sqrt, pi\n",
    "\n",
    "print(sqrt(16))\n",
    "print(sqrt(pi))"
   ]
  },
  {
   "cell_type": "code",
   "execution_count": 12,
   "metadata": {},
   "outputs": [
    {
     "name": "stdout",
     "output_type": "stream",
     "text": [
      "[1 2 3 4]\n",
      "[2 3 5 5]\n"
     ]
    }
   ],
   "source": [
    "# importing as alias \n",
    "\n",
    "# here install numpy first\n",
    "\n",
    "import numpy as np # numpy as np\n",
    "\n",
    "print(np.array([1,2,3,4]))\n",
    "\n",
    "import numpy as n\n",
    "print(n.array([2,3,5,5]))"
   ]
  },
  {
   "cell_type": "code",
   "execution_count": 8,
   "metadata": {},
   "outputs": [
    {
     "name": "stdout",
     "output_type": "stream",
     "text": [
      "6.864684246478267\n",
      "3.141592653589793\n",
      "1.7320508075688772\n"
     ]
    }
   ],
   "source": [
    "from math import *   # install all the pkges in math module\n",
    "print(sqrt(15 * pi))\n",
    "print(pi)\n",
    "\n",
    "\n",
    "from math import *\n",
    "print(sqrt(3))"
   ]
  },
  {
   "cell_type": "code",
   "execution_count": null,
   "metadata": {},
   "outputs": [],
   "source": [
    "# creating ur own custom package/module"
   ]
  },
  {
   "cell_type": "code",
   "execution_count": 9,
   "metadata": {},
   "outputs": [
    {
     "name": "stdout",
     "output_type": "stream",
     "text": [
      "5\n"
     ]
    }
   ],
   "source": [
    "from package.maths import addition\n",
    "\n",
    "print(addition(2,3))"
   ]
  },
  {
   "cell_type": "code",
   "execution_count": 6,
   "metadata": {},
   "outputs": [
    {
     "name": "stdout",
     "output_type": "stream",
     "text": [
      "4\n",
      "0\n",
      "kyu be chal gya\n",
      "-1\n"
     ]
    }
   ],
   "source": [
    "from package.maths import *\n",
    "print(addition(2,2))\n",
    "print(subtr(2,2))\n",
    "\n",
    "from package.sample import *\n",
    "print(sub(2,3))"
   ]
  },
  {
   "cell_type": "markdown",
   "metadata": {},
   "source": [
    "# Creating your own package\n",
    "1. First in the same parent foldr, create a folder that can be used as your codebase\n",
    "\n",
    "2. Create a <__init__.py> in the pkg folder u created (this is a specila file that is used to define packages and define namsepaces)\n",
    "\n",
    "3. Now you are ready to create the source file like we did here maths.py , sample.py\n",
    "(now this maths and sample have now become our source package)\n",
    "\n",
    "4. Define the functions in the source files , and then use them in the same folder location\n"
   ]
  },
  {
   "cell_type": "code",
   "execution_count": 13,
   "metadata": {},
   "outputs": [],
   "source": [
    "# NOTE: In the above markdown, it is __init__.py"
   ]
  },
  {
   "cell_type": "code",
   "execution_count": 14,
   "metadata": {},
   "outputs": [
    {
     "name": "stdout",
     "output_type": "stream",
     "text": [
      "just for the revision purpose\n"
     ]
    }
   ],
   "source": [
    "from package.hero import sample\n",
    "sample()"
   ]
  },
  {
   "cell_type": "code",
   "execution_count": null,
   "metadata": {},
   "outputs": [],
   "source": []
  },
  {
   "cell_type": "code",
   "execution_count": null,
   "metadata": {},
   "outputs": [],
   "source": []
  },
  {
   "cell_type": "code",
   "execution_count": null,
   "metadata": {},
   "outputs": [],
   "source": []
  },
  {
   "cell_type": "code",
   "execution_count": null,
   "metadata": {},
   "outputs": [],
   "source": []
  },
  {
   "cell_type": "code",
   "execution_count": null,
   "metadata": {},
   "outputs": [],
   "source": []
  }
 ],
 "metadata": {
  "kernelspec": {
   "display_name": "Python 3",
   "language": "python",
   "name": "python3"
  },
  "language_info": {
   "codemirror_mode": {
    "name": "ipython",
    "version": 3
   },
   "file_extension": ".py",
   "mimetype": "text/x-python",
   "name": "python",
   "nbconvert_exporter": "python",
   "pygments_lexer": "ipython3",
   "version": "3.12.0"
  }
 },
 "nbformat": 4,
 "nbformat_minor": 2
}
