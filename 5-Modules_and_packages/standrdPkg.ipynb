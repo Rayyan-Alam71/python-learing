{
 "cells": [
  {
   "cell_type": "markdown",
   "metadata": {},
   "source": [
    "# Standard Library Overview\n"
   ]
  },
  {
   "cell_type": "code",
   "execution_count": 1,
   "metadata": {},
   "outputs": [
    {
     "name": "stdout",
     "output_type": "stream",
     "text": [
      "array('i', [1, 2, 3, 4])\n"
     ]
    }
   ],
   "source": [
    "import array\n",
    "arr = array.array('i', [1,2,3,4])\n",
    "print(arr)"
   ]
  },
  {
   "cell_type": "code",
   "execution_count": 2,
   "metadata": {},
   "outputs": [
    {
     "name": "stdout",
     "output_type": "stream",
     "text": [
      "3.141592653589793\n"
     ]
    }
   ],
   "source": [
    "import math\n",
    "print(math.pi)"
   ]
  },
  {
   "cell_type": "code",
   "execution_count": 20,
   "metadata": {},
   "outputs": [
    {
     "name": "stdout",
     "output_type": "stream",
     "text": [
      "9\n",
      "apple\n",
      "b'[\\xb5\\xd7zJ\\xfa\\xb5\\x95\\xd80\\xfb\\xc5\\xa1\\x80\\x1dia-\\x8cK\\x16\\x1e;'\n"
     ]
    }
   ],
   "source": [
    "# random \n",
    "\n",
    "import random\n",
    "print(random.randint(1,10)) # random no. b/w 1 to 10\n",
    "print(random.choice(['apple', 'banana', 'cherry']))\n",
    "print(random.randbytes(23))"
   ]
  },
  {
   "cell_type": "code",
   "execution_count": 10,
   "metadata": {},
   "outputs": [
    {
     "name": "stdout",
     "output_type": "stream",
     "text": [
      "c:\\Users\\AIO\\OneDrive\\Desktop\\python\\5-Modules_and_packages\n"
     ]
    }
   ],
   "source": [
    "### File and Directory access\n",
    "\n",
    "import os\n",
    "print(os.getcwd()) # get current working directory\n",
    "os.mkdir('testDir') # creates testDir in the current working directory\n"
   ]
  },
  {
   "cell_type": "code",
   "execution_count": 11,
   "metadata": {},
   "outputs": [
    {
     "data": {
      "text/plain": [
       "'destination.txt'"
      ]
     },
     "execution_count": 11,
     "metadata": {},
     "output_type": "execute_result"
    }
   ],
   "source": [
    "# High level operations on file and collectionof file\n",
    "\n",
    "import shutil\n",
    "shutil.copyfile('source.txt', 'destination.txt') # creates a new destinatin file and then copies form source to this\n"
   ]
  },
  {
   "cell_type": "code",
   "execution_count": 14,
   "metadata": {},
   "outputs": [
    {
     "name": "stdout",
     "output_type": "stream",
     "text": [
      "{\"name\": \"rayyan\", \"age\": 21}\n",
      "<class 'str'>\n",
      "{'name': 'rayyan', 'age': 21}\n",
      "<class 'dict'>\n"
     ]
    }
   ],
   "source": [
    "## Data Serialization\n",
    "import json\n",
    "data = {'name':'rayyan', 'age':21}\n",
    "json_str  = json.dumps(data) # converts dictionary -> json format\n",
    "print(json_str)\n",
    "print(type(json_str))\n",
    "\n",
    "parsedData  = json.loads(json_str) # converts json -> dictionary\n",
    "print(parsedData)\n",
    "print(type(parsedData))"
   ]
  },
  {
   "cell_type": "code",
   "execution_count": 18,
   "metadata": {},
   "outputs": [
    {
     "name": "stdout",
     "output_type": "stream",
     "text": [
      "['name ', 'age']\n",
      "['Rayyan', '23']\n",
      "['Krish', '21']\n"
     ]
    }
   ],
   "source": [
    "## csv file\n",
    "\n",
    "import csv\n",
    "# creates a new file \"example.csv\" , opens it write (w) mode and newline ='' , and opens it as \"file\" (named) object\n",
    "with open('example.csv', mode='w', newline='') as file:\n",
    "    writer = csv.writer(file) # initializes a writer object to the file opened\n",
    "    writer.writerow(['name ', 'age']) # writes first row (here used for declaring the title)\n",
    "    writer.writerow(['Rayyan', 23]) # writes second row\n",
    "    writer.writerow(['Krish', 21]) # similrary the 3rd one\n",
    "\n",
    "with open('example.csv', mode='r') as file :\n",
    "    reader = csv.reader(file)\n",
    "    for row in reader:\n",
    "        print(row)"
   ]
  },
  {
   "cell_type": "code",
   "execution_count": 22,
   "metadata": {},
   "outputs": [
    {
     "name": "stdout",
     "output_type": "stream",
     "text": [
      "2025-01-30 01:32:11.348248\n",
      "2025-01-29 01:32:11.348248\n"
     ]
    }
   ],
   "source": [
    "## datetime library\n",
    "\n",
    "from datetime import datetime, timedelta\n",
    "\n",
    "now = datetime.now()\n",
    "print(now)\n",
    "\n",
    "yestrday = now - timedelta(days = 1) # go one day back,and get the date tie then\n",
    "print(yestrday)"
   ]
  },
  {
   "cell_type": "code",
   "execution_count": 25,
   "metadata": {},
   "outputs": [
    {
     "name": "stdout",
     "output_type": "stream",
     "text": [
      "1738181009.5189054\n",
      "1738181014.520426\n"
     ]
    }
   ],
   "source": [
    "## time\n",
    "\n",
    "import time \n",
    "print(time.time())\n",
    "time.sleep(5) # sleeps for 2 seconds\n",
    "print(time.time())"
   ]
  },
  {
   "cell_type": "code",
   "execution_count": 26,
   "metadata": {},
   "outputs": [
    {
     "name": "stdout",
     "output_type": "stream",
     "text": [
      "231\n"
     ]
    }
   ],
   "source": [
    "## regular expression\n",
    "# helps to match dataset\n",
    "\n",
    "import re\n",
    "pattern = r'\\d+'\n",
    "text = \"There are 231 apples each cost 32\" # match successfully done at 231, hence it will not proceed further\n",
    "\n",
    "match = re.search(pattern, text)\n",
    "print(match.group())"
   ]
  },
  {
   "cell_type": "code",
   "execution_count": null,
   "metadata": {},
   "outputs": [],
   "source": [
    "\n"
   ]
  },
  {
   "cell_type": "code",
   "execution_count": null,
   "metadata": {},
   "outputs": [],
   "source": []
  }
 ],
 "metadata": {
  "kernelspec": {
   "display_name": "venv",
   "language": "python",
   "name": "python3"
  },
  "language_info": {
   "codemirror_mode": {
    "name": "ipython",
    "version": 3
   },
   "file_extension": ".py",
   "mimetype": "text/x-python",
   "name": "python",
   "nbconvert_exporter": "python",
   "pygments_lexer": "ipython3",
   "version": "3.12.0"
  }
 },
 "nbformat": 4,
 "nbformat_minor": 2
}
