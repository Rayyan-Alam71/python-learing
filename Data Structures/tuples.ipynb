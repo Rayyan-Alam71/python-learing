{
 "cells": [
  {
   "cell_type": "markdown",
   "metadata": {},
   "source": [
    "### Tuples\n",
    "\n",
    "Tupples are ordered collections of items that are immutable. They are similar ot lists, but their imutabulity makes 'em diiferent"
   ]
  },
  {
   "cell_type": "code",
   "execution_count": 1,
   "metadata": {},
   "outputs": [
    {
     "name": "stdout",
     "output_type": "stream",
     "text": [
      "()\n",
      "<class 'tuple'>\n"
     ]
    }
   ],
   "source": [
    "## Creating a tuple\n",
    "\n",
    "empty_tuple=()\n",
    "print(empty_tuple)\n",
    "print(type(empty_tuple))"
   ]
  },
  {
   "cell_type": "code",
   "execution_count": 2,
   "metadata": {},
   "outputs": [
    {
     "name": "stdout",
     "output_type": "stream",
     "text": [
      "<class 'list'>\n",
      "<class 'tuple'>\n"
     ]
    }
   ],
   "source": [
    "lst = list() # another way to create a list\n",
    "print(type(lst))\n",
    "tpl=tuple() # another way to create tuple\n",
    "print(type(tpl))"
   ]
  },
  {
   "cell_type": "code",
   "execution_count": 9,
   "metadata": {},
   "outputs": [
    {
     "name": "stdout",
     "output_type": "stream",
     "text": [
      "(1, 2, 3, 4, 5, 6)\n"
     ]
    },
    {
     "data": {
      "text/plain": [
       "[1, 2, 3, 4, 5, 6, 7, 8]"
      ]
     },
     "execution_count": 9,
     "metadata": {},
     "output_type": "execute_result"
    }
   ],
   "source": [
    "nums = tuple([1,2,3,4,5,6])\n",
    "print(nums)\n",
    "\n",
    "list([1,2,3,4,5,6,7,8])"
   ]
  },
  {
   "cell_type": "code",
   "execution_count": null,
   "metadata": {},
   "outputs": [],
   "source": [
    "mixed_tuple=(1, \"hello world\",3.12,True)\n",
    "print(mixed_tuple)\n",
    "\n",
    "nums"
   ]
  },
  {
   "cell_type": "code",
   "execution_count": null,
   "metadata": {},
   "outputs": [],
   "source": [
    "# Accessing tuple elements\n",
    "nums[0]\n",
    "print(nums[-1])\n",
    "print(nums[1])\n",
    "print(nums[:4])\n",
    "print(nums[4:])\n",
    "print(nums[::2])\n",
    "print(nums[::1])\n",
    "print(nums[::-1])\n",
    "print(nums[::-2])"
   ]
  },
  {
   "cell_type": "code",
   "execution_count": null,
   "metadata": {},
   "outputs": [],
   "source": [
    "# tuple opertations\n",
    "\n",
    "final_tuple = nums+mixed_tuple\n",
    "print(final_tuple)\n",
    "\n",
    "mixed_tuple*3 # repeated 3 times\n",
    "# print(mixed_tuple)\n",
    "\n",
    "nums*3"
   ]
  },
  {
   "cell_type": "code",
   "execution_count": null,
   "metadata": {},
   "outputs": [],
   "source": [
    "## Immutable nature of tuple => elements can't be changed once assigned\n",
    "\n",
    "vals = (1,2,3,4,5)\n",
    "print(vals)\n",
    "vals[0]=\"rayyan\" # won't let u do this\n",
    "print(vals)\n",
    "# then how to change \n",
    "# first chnage tuple =>  list , perform operation and then change list => tuple back\n"
   ]
  },
  {
   "cell_type": "code",
   "execution_count": 26,
   "metadata": {},
   "outputs": [
    {
     "name": "stdout",
     "output_type": "stream",
     "text": [
      "1\n",
      "2\n"
     ]
    }
   ],
   "source": [
    "# Tuple methods\n",
    "\n",
    "print(nums.count(1))\n",
    "print(nums.index(3)) # index of element 3\n"
   ]
  },
  {
   "cell_type": "code",
   "execution_count": 28,
   "metadata": {},
   "outputs": [
    {
     "name": "stdout",
     "output_type": "stream",
     "text": [
      "(1, 'hello ', 3.14)\n",
      "1\n",
      "hello \n",
      "3.14\n"
     ]
    }
   ],
   "source": [
    "# Packign and unpacking tuple\n",
    "\n",
    "packed_tuple = 1, \"hello \", 3.14 # it'll autom. pack the tuple\n",
    "print(packed_tuple)\n",
    "\n",
    "a,b,c = packed_tuple # similar to array destructuring in js\n",
    "print(a)\n",
    "print(b)\n",
    "print(c)"
   ]
  },
  {
   "cell_type": "code",
   "execution_count": 32,
   "metadata": {},
   "outputs": [
    {
     "name": "stdout",
     "output_type": "stream",
     "text": [
      "1\n",
      "[2, 3, 4, 5]\n",
      "6\n"
     ]
    }
   ],
   "source": [
    "# Unpacking with star\n",
    "\n",
    "numbers = (1,2,3,4,5,6)\n",
    "first , *middle,last = numbers\n",
    "print(first)\n",
    "print(middle) # taken all the remaining element before the last one(here)\n",
    "print(last)"
   ]
  },
  {
   "cell_type": "code",
   "execution_count": null,
   "metadata": {},
   "outputs": [],
   "source": [
    "# Nested tuple\n",
    "\n",
    "nested_list=[[1,2,3],[\"hello\",\"world\"],(8,9,10)]\n",
    "print(nested_list[0][1], \" :\", nested_list)\n",
    "\n",
    "print(nested_list[2])\n",
    "print(nested_list[0][0:])\n",
    "\n",
    "\n"
   ]
  },
  {
   "cell_type": "code",
   "execution_count": 42,
   "metadata": {},
   "outputs": [
    {
     "name": "stdout",
     "output_type": "stream",
     "text": [
      "2\n"
     ]
    }
   ],
   "source": [
    "## access the elements inside a tuple\n",
    "nested_tuple= ((1,2,3),(\"hello\",\"world\",\"dear\"),(5,6,7))\n",
    "print(nested_tuple[0][1])"
   ]
  },
  {
   "cell_type": "code",
   "execution_count": 45,
   "metadata": {},
   "outputs": [
    {
     "name": "stdout",
     "output_type": "stream",
     "text": [
      "1 2 3 \n",
      "hello world dear \n",
      "5 6 7 \n"
     ]
    }
   ],
   "source": [
    "## iterating over the tuple\n",
    "\n",
    "for sub_tuple in nested_tuple:\n",
    "    for item in sub_tuple:\n",
    "        print(item, end=\" \")\n",
    "    print()"
   ]
  },
  {
   "cell_type": "code",
   "execution_count": null,
   "metadata": {},
   "outputs": [],
   "source": [
    "## Conclusion\n",
    "Tuples are used "
   ]
  }
 ],
 "metadata": {
  "kernelspec": {
   "display_name": "venv",
   "language": "python",
   "name": "python3"
  },
  "language_info": {
   "codemirror_mode": {
    "name": "ipython",
    "version": 3
   },
   "file_extension": ".py",
   "mimetype": "text/x-python",
   "name": "python",
   "nbconvert_exporter": "python",
   "pygments_lexer": "ipython3",
   "version": "3.12.0"
  }
 },
 "nbformat": 4,
 "nbformat_minor": 2
}
