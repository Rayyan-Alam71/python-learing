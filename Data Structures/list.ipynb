{
 "cells": [
  {
   "cell_type": "markdown",
   "metadata": {},
   "source": [
    "### Introduction to Lists\n"
   ]
  },
  {
   "cell_type": "markdown",
   "metadata": {},
   "source": [
    " List are orderes, mutable collection of items.m They can contain items of different data types\n"
   ]
  },
  {
   "cell_type": "markdown",
   "metadata": {},
   "source": []
  },
  {
   "cell_type": "code",
   "execution_count": 1,
   "metadata": {},
   "outputs": [
    {
     "name": "stdout",
     "output_type": "stream",
     "text": [
      "<class 'list'>\n"
     ]
    }
   ],
   "source": [
    "list=[]\n",
    "print(type(list))"
   ]
  },
  {
   "cell_type": "code",
   "execution_count": null,
   "metadata": {},
   "outputs": [],
   "source": [
    "names= [\"krish\", \"rayyan\",\"alam\",\"jacob\", 1,2]\n",
    "print(names)"
   ]
  },
  {
   "cell_type": "code",
   "execution_count": null,
   "metadata": {},
   "outputs": [],
   "source": [
    "mixed_list =[1,\" \", 2.32, False]\n",
    "print(mixed_list)"
   ]
  },
  {
   "cell_type": "code",
   "execution_count": null,
   "metadata": {},
   "outputs": [],
   "source": [
    "## Accessing list elements\n",
    "\n",
    "fruits = [\"orange\",\"apple\",\"banana\",\"cherry\",\"kiwi\",\"mango\"]\n",
    "# print(fruits[0])\n",
    "\n",
    "for i in range(6):\n",
    "    print(fruits[i])\n",
    "\n",
    "print(fruits[-1])"
   ]
  },
  {
   "cell_type": "code",
   "execution_count": null,
   "metadata": {},
   "outputs": [],
   "source": [
    "# SLICING \n",
    "print(fruits[1:4]) # till the index 4(excluded)\n",
    "print(fruits[1:]) # till the end\n",
    "print(fruits[-1:]) # -1 till the end\n",
    "print(fruits[-1 : 4])"
   ]
  },
  {
   "cell_type": "code",
   "execution_count": 32,
   "metadata": {},
   "outputs": [
    {
     "name": "stdout",
     "output_type": "stream",
     "text": [
      "['orange', 'c', 'changed to => watermelon', 'a', 'n', 'g', 'e', 'n', 'w', 'f', 'k', 'l', 'f', 'e', 'i', 'h', 'f', 'i', 'o', 'l', 'd', 'added to the end', 'added to the end', 'added to the end', 'added to the end', 'added to the end']\n"
     ]
    }
   ],
   "source": [
    "# Modifying the list elements\n",
    "fruits[2]=\"changed to => watermelon\"\n",
    "print(fruits)\n",
    "\n",
    "# fruits[1:]= \"changed\" # doesn't matter the length\n",
    "# print(fruits)\n",
    "# fruits[1:]= \"changenwfklfeihfiold\"\n",
    "# print(fruits)"
   ]
  },
  {
   "cell_type": "code",
   "execution_count": 36,
   "metadata": {},
   "outputs": [
    {
     "name": "stdout",
     "output_type": "stream",
     "text": [
      "added at the 4th index  => has been popped out\n"
     ]
    }
   ],
   "source": [
    "# List Methods\n",
    "items=[\"one\",\"two\",\"three\"]\n",
    "items.append(\"added to the end\") # add an item to the end\n",
    "# print(items)\n",
    "\n",
    "\n",
    "items.insert(4, \"added at the 4th index\")\n",
    "# print(items)\n",
    "\n",
    "\n",
    "items.remove(\"one\") # removing the first occurence of the item\n",
    "\n",
    "# print(items)\n",
    "\n",
    "\n",
    "# remove and return the last occurence\n",
    "pop_item = items.pop()\n",
    "print(pop_item, \" => has been popped out\")"
   ]
  },
  {
   "cell_type": "code",
   "execution_count": 43,
   "metadata": {},
   "outputs": [
    {
     "name": "stdout",
     "output_type": "stream",
     "text": [
      "0\n",
      "['two', 'three', 'two', 'two', 'two', 'two', 'two', 'added to the end']\n",
      "6\n"
     ]
    }
   ],
   "source": [
    "index= items.index(\"two\")\n",
    "print(index)\n",
    "\n",
    "items.insert(2 , \"two\")\n",
    "items.insert(-1 , \"two\")\n",
    "print(items)\n",
    "print(items.count(\"two\"))"
   ]
  },
  {
   "cell_type": "code",
   "execution_count": 44,
   "metadata": {},
   "outputs": [
    {
     "name": "stdout",
     "output_type": "stream",
     "text": [
      "[]\n"
     ]
    }
   ],
   "source": [
    "fruits=[]\n",
    "print(fruits)"
   ]
  },
  {
   "cell_type": "code",
   "execution_count": 49,
   "metadata": {},
   "outputs": [
    {
     "name": "stdout",
     "output_type": "stream",
     "text": [
      "['apple', 'bananan', 'guava', 'mango']\n",
      "['mango', 'guava', 'bananan', 'apple']\n",
      "[]\n"
     ]
    }
   ],
   "source": [
    "fruits=[\"apple\",\"mango\",\"guava\",\"bananan\"]\n",
    "fruits.sort()\n",
    "print(fruits)\n",
    "fruits.reverse()\n",
    "print(fruits)\n",
    "\n",
    "fruits.clear()\n",
    "print(fruits)"
   ]
  },
  {
   "cell_type": "code",
   "execution_count": 50,
   "metadata": {},
   "outputs": [],
   "source": [
    "# so far we have discussed => slice, inser(idx, item), sort(), reverse(), clear()"
   ]
  },
  {
   "cell_type": "code",
   "execution_count": null,
   "metadata": {},
   "outputs": [],
   "source": [
    "# Slicing list\n",
    "nums= [1,2,3,4,5,6,7,8,9,10]\n",
    "print(nums[2:5])\n",
    "print(nums[:5]) #(5 included)\n",
    "print(nums[5:]) # (5 excluded)\n",
    "print(nums[::2]) # jump 2 steps\n",
    "print(nums[::-1]) # jump 1 step from the end"
   ]
  },
  {
   "cell_type": "code",
   "execution_count": 59,
   "metadata": {},
   "outputs": [
    {
     "name": "stdout",
     "output_type": "stream",
     "text": [
      "0 1\n",
      "1 2\n",
      "2 3\n",
      "3 4\n",
      "4 5\n",
      "5 6\n",
      "6 7\n",
      "7 8\n",
      "8 9\n",
      "9 10\n"
     ]
    }
   ],
   "source": [
    "# iterate over list\n",
    "\n",
    "# for num in nums\n",
    "    # print(num)\n",
    " \n",
    "for index, number in enumerate(nums):\n",
    "    print(index, number)"
   ]
  },
  {
   "cell_type": "code",
   "execution_count": null,
   "metadata": {},
   "outputs": [],
   "source": [
    "# List Comprehension\n",
    "\n",
    "lst=[]\n",
    "for x in range(10+1):\n",
    "    lst.append(x**2)\n",
    "print(lst)\n",
    "\n",
    "# OR\n",
    "\n",
    "[x**2 for x in range(10)]"
   ]
  },
  {
   "cell_type": "markdown",
   "metadata": {},
   "source": [
    "### List Comprehension\n",
    "\n",
    "Basic syntax [expression for item in iterbale]\n",
    "\n",
    "With conditional login :  [expression for item in iterable if condtion]\n",
    "\n",
    "Nested list comprehension: [expression for item1 in iterable1 for item2 in iterable2]"
   ]
  },
  {
   "cell_type": "code",
   "execution_count": 66,
   "metadata": {},
   "outputs": [
    {
     "name": "stdout",
     "output_type": "stream",
     "text": [
      "[0, 1, 4, 9, 16, 25, 36, 49, 64, 81]\n",
      "[0, 4, 16, 36, 64]\n",
      "[1, 9, 25, 49, 81]\n"
     ]
    }
   ],
   "source": [
    "## Examples\n",
    "\n",
    "squares = [num**2 for num in range(10)]\n",
    "print(squares)\n",
    "\n",
    "squares_even = [num**2 for num in range(10) if num%2==0]\n",
    "print(squares_even)\n",
    "\n",
    "squares_odd =[num**2 for num in range(10) if num %2!=0]\n",
    "print(squares_odd)"
   ]
  },
  {
   "cell_type": "code",
   "execution_count": 68,
   "metadata": {},
   "outputs": [
    {
     "name": "stdout",
     "output_type": "stream",
     "text": [
      "[[1, 'a'], [1, 'b'], [1, 'c'], [1, 'd'], [1, 'e'], [2, 'a'], [2, 'b'], [2, 'c'], [2, 'd'], [2, 'e'], [3, 'a'], [3, 'b'], [3, 'c'], [3, 'd'], [3, 'e'], [4, 'a'], [4, 'b'], [4, 'c'], [4, 'd'], [4, 'e'], [5, 'a'], [5, 'b'], [5, 'c'], [5, 'd'], [5, 'e']]\n"
     ]
    }
   ],
   "source": [
    "# Nested list comprehension\n",
    "\n",
    "list1 = [1,2,3,4,5]\n",
    "list2 = ['a','b','c','d','e']\n",
    "# make a pair of list1 and list2 elements\n",
    "\n",
    "pair = [[i,j] for i in list1 for j in list2 ] # it's equivalent to generating a 2d matrix with nested loops\n",
    "print(pair)"
   ]
  },
  {
   "cell_type": "code",
   "execution_count": 72,
   "metadata": {},
   "outputs": [],
   "source": [
    "# List comprehension with function calls\n",
    "\n",
    "words=[\"hello\",\"world\",\"python\",\"list\"]\n",
    "length = [print(word,\"=>\",len(word),\"letters\") for word in words]\n",
    "sample = [len for word in words]\n",
    "# print(word,\"=>\",len(word),\"letters\") is a function call (could be only len(word))\n",
    "print(sample)"
   ]
  },
  {
   "cell_type": "markdown",
   "metadata": {},
   "source": [
    "## Conclusion\n",
    "List comprehension are a powerful and concise way to create lists in Python. They are synctactically compact and can replace ,ore verbose looping constructs. Understanding the syntax of list comprehension wll help you write cleaner and more efficient Python code\n"
   ]
  },
  {
   "cell_type": "code",
   "execution_count": null,
   "metadata": {},
   "outputs": [],
   "source": []
  }
 ],
 "metadata": {
  "kernelspec": {
   "display_name": "venv",
   "language": "python",
   "name": "python3"
  },
  "language_info": {
   "codemirror_mode": {
    "name": "ipython",
    "version": 3
   },
   "file_extension": ".py",
   "mimetype": "text/x-python",
   "name": "python",
   "nbconvert_exporter": "python",
   "pygments_lexer": "ipython3",
   "version": "3.12.0"
  }
 },
 "nbformat": 4,
 "nbformat_minor": 2
}
