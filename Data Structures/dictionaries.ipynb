{
 "cells": [
  {
   "cell_type": "markdown",
   "metadata": {},
   "source": [
    "## Dictionaries\n"
   ]
  },
  {
   "cell_type": "markdown",
   "metadata": {},
   "source": [
    "Dictionaries are unordered collection of items. They store data in key-value pair. Key must be unique."
   ]
  },
  {
   "cell_type": "code",
   "execution_count": 1,
   "metadata": {},
   "outputs": [
    {
     "name": "stdout",
     "output_type": "stream",
     "text": [
      "<class 'dict'>\n",
      "{}\n"
     ]
    }
   ],
   "source": [
    "# Creating Dictionary\n",
    "empty_dict={}\n",
    "print(type(empty_dict))\n",
    "\n",
    "empty_dict1 = dict()\n",
    "print(empty_dict1)"
   ]
  },
  {
   "cell_type": "code",
   "execution_count": 6,
   "metadata": {},
   "outputs": [
    {
     "name": "stdout",
     "output_type": "stream",
     "text": [
      "{'name': 'Rayyan', 'age': 32, 'grade': 43}\n",
      "<class 'dict'>\n",
      "43\n"
     ]
    }
   ],
   "source": [
    "student = {\"name\":\"Rayyan\", \"age\":32, \"grade\":43}\n",
    "print(student)\n",
    "print(type(student))\n",
    "print(student[\"grade\"])"
   ]
  },
  {
   "cell_type": "code",
   "execution_count": 21,
   "metadata": {},
   "outputs": [
    {
     "name": "stdout",
     "output_type": "stream",
     "text": [
      "Rayyan\n"
     ]
    }
   ],
   "source": [
    "# Error condition\n",
    "# the value will be replaced (here in case of name)\n",
    "student = {\"name\":\"Rayyan\", \"age\":32, \"grade\":43}\n",
    "\n",
    "print(student[\"name\"])"
   ]
  },
  {
   "cell_type": "code",
   "execution_count": null,
   "metadata": {},
   "outputs": [],
   "source": [
    "## accessing dictionary elements\n",
    "user  ={\"id\":23, \"name\":\"Rayyan Alam\", \"age\":22}\n",
    "name = user[\"name\"]\n",
    "age = user[\"age\"]\n",
    "print(\"name:\",name, \"age:\",age)\n",
    "\n",
    "# Accessing using get() method provided by dct.\n",
    "id=user.get(\"id\")\n",
    "lastname=user.get(\"lastname\")\n",
    "lastname_with_default=user.get(\"lastname\",\"Not available\")\n",
    "print(lastname) # should result none\n",
    "print(lastname_with_default) # should result none\n"
   ]
  },
  {
   "cell_type": "code",
   "execution_count": null,
   "metadata": {},
   "outputs": [],
   "source": [
    "# Modifying Dictionary Elements\n",
    "    # Dict. are mutable , so u can perform CRUD (with unique key)\n",
    "# added a new key-value\n",
    "print(student)\n",
    "student[\"address\"]= \"India\"\n",
    "print(student)\n",
    "# updated an older one\n",
    "student[\"age\"]=34\n",
    "# deleting\n",
    "\n",
    "del student['grade']\n",
    "print(student)"
   ]
  },
  {
   "cell_type": "code",
   "execution_count": null,
   "metadata": {},
   "outputs": [],
   "source": [
    "## Dictionary methods that are commonly used\n",
    "\n",
    "all_keys = student.keys() # return all the keys\n",
    "print(all_keys)\n",
    "\n",
    "values= student.values() # return all the values \n",
    "print(values)\n",
    "\n",
    "key_value_pairs = student.items() # return all key-value pairs\n",
    "print(key_value_pairs) # returns a list of tuple\n",
    "\n",
    "\n"
   ]
  },
  {
   "cell_type": "code",
   "execution_count": null,
   "metadata": {},
   "outputs": [],
   "source": [
    "## Shallow copy\n",
    "\n",
    "student_copy = student\n",
    "print(student)\n",
    "print(student_copy)\n",
    "\n",
    "student['name']='Rayyan_changed'\n",
    "print(student_copy)\n",
    "print(student) # what! the original one has changed too...\n",
    "\n",
    "\n",
    "\n",
    "studnet_copy_1 = student.copy()\n",
    "print(studnet_copy_1)\n",
    "studnet_copy_1['name'] = 'name_changed'\n",
    "print(studnet_copy_1) # will have name changed\n",
    "print(student)  # the change would not affect original dictionary\n",
    "\n"
   ]
  },
  {
   "cell_type": "code",
   "execution_count": null,
   "metadata": {},
   "outputs": [],
   "source": [
    "## Iterating over dictionaries\n",
    "\n",
    "    # Using loops\n",
    "# Iterating over keys\n",
    "\n",
    "for key in student.keys():\n",
    "    print(key)\n",
    "\n",
    "# Iterate over values\n",
    "print()\n",
    "for value in student.values():\n",
    "    print(value)\n",
    "\n",
    "print()\n",
    "for pair in student.items():\n",
    "    print(pair[0], \"=>\", pair[1])"
   ]
  },
  {
   "cell_type": "code",
   "execution_count": 40,
   "metadata": {},
   "outputs": [
    {
     "name": "stdout",
     "output_type": "stream",
     "text": [
      "dict_items([('student1', {'name': 'Rayyan Alam', 'age': 22, 'grade': 45}), ('student2', {'name': 'Krish Naik', 'age': 34, 'grade': 89}), ('student3', {'name': 'Karan Maurya', 'age': 30, 'grade': 90})])\n"
     ]
    }
   ],
   "source": [
    "## Nested Dictionaries => dictionary inside another dictionary\n",
    "\n",
    "students ={\n",
    "    \"student1\":{\n",
    "        \"name\":\"Rayyan Alam\",\n",
    "        \"age\":22,\n",
    "        \"grade\":45\n",
    "    },\n",
    "    \"student2\":{\n",
    "        \"name\":\"Krish Naik\",\n",
    "        \"age\":34,\n",
    "        \"grade\":89\n",
    "    },\n",
    "    \"student3\":{\n",
    "        \"name\":\"Karan Maurya\",\n",
    "        \"age\":30,\n",
    "        \"grade\":90\n",
    "    }\n",
    "}\n",
    "print(students)\n"
   ]
  },
  {
   "cell_type": "code",
   "execution_count": null,
   "metadata": {},
   "outputs": [],
   "source": [
    "## Accessing nested dict. elements\n",
    "\n",
    "print(students[\"student1\"][\"name\"])\n",
    "print(students[\"student1\"][\"age\"])\n",
    "print(students[\"student1\"][\"grade\"]) # similar to nested lists. THe only difference is we have to get the values using keys"
   ]
  },
  {
   "cell_type": "code",
   "execution_count": 56,
   "metadata": {},
   "outputs": [
    {
     "name": "stdout",
     "output_type": "stream",
     "text": [
      "student1 : Rayyan Alam\n",
      "\n",
      "name:Rayyan Alam\n",
      "age:22\n",
      "grade:45\n",
      "---------------------------------\n",
      "student2 : Krish Naik\n",
      "\n",
      "name:Krish Naik\n",
      "age:34\n",
      "grade:89\n",
      "---------------------------------\n",
      "student3 : Karan Maurya\n",
      "\n",
      "name:Karan Maurya\n",
      "age:30\n",
      "grade:90\n",
      "---------------------------------\n"
     ]
    }
   ],
   "source": [
    "## Iterating over nested ductionaries\n",
    "\n",
    "for students_id, students_info in students.items():\n",
    "    print(f\"{students_id} : {students_info['name']}\")\n",
    "    print()\n",
    "    \n",
    "    for key,value in students_info.items():\n",
    "        print(f\"{key}:{value}\")\n",
    "    print(\"---------------------------------\")"
   ]
  },
  {
   "cell_type": "code",
   "execution_count": 62,
   "metadata": {},
   "outputs": [
    {
     "name": "stdout",
     "output_type": "stream",
     "text": [
      "[0, 1, 4, 9, 16]\n",
      "{0: 0, 1: 1, 2: 4, 3: 9, 4: 16}\n"
     ]
    }
   ],
   "source": [
    "## Dictionary comprehension\n",
    "\n",
    "squares_list = [x**2 for x in range(5)]\n",
    "squares_dict = {x:x**2 for x in range(5)}\n",
    "print(squares_list)\n",
    "print(squares_dict)"
   ]
  },
  {
   "cell_type": "code",
   "execution_count": 63,
   "metadata": {},
   "outputs": [
    {
     "name": "stdout",
     "output_type": "stream",
     "text": [
      "{0: 0, 2: 4, 4: 16, 6: 36, 8: 64}\n"
     ]
    }
   ],
   "source": [
    "## Conditional dictionary comprehension\n",
    "\n",
    "evens = {x:x**2 for x in range(10) if x%2==0}\n",
    "print(evens)"
   ]
  },
  {
   "cell_type": "code",
   "execution_count": 68,
   "metadata": {},
   "outputs": [
    {
     "name": "stdout",
     "output_type": "stream",
     "text": [
      "{1: 4, 2: 2, 3: 3, 4: 1, 6: 1, 7: 1, 8: 1}\n",
      "1:4 is the most frequent\n"
     ]
    }
   ],
   "source": [
    "# Example\n",
    "# use dictionary to count the freq. of every element in the list\n",
    "\n",
    "nums = [1,2,3,3,3,4,1,1,1,2,6,7,8,]\n",
    "freq = {}\n",
    "for num in nums:\n",
    "    if num in freq:\n",
    "        freq[num]+=1\n",
    "    else:\n",
    "        freq[num]=1\n",
    "x=0\n",
    "y=0\n",
    "for num, num_freq in freq.items():\n",
    "    if num_freq > x:\n",
    "        x = num_freq\n",
    "        y = num\n",
    "print(freq)\n",
    "print(f\"{y}:{x} is the most frequent\")"
   ]
  },
  {
   "cell_type": "code",
   "execution_count": 69,
   "metadata": {},
   "outputs": [
    {
     "name": "stdout",
     "output_type": "stream",
     "text": [
      "{'a': 1, 'b': 1, 'c': 4}\n"
     ]
    }
   ],
   "source": [
    "## Merge 2 dictionaries into one\n",
    "\n",
    "dict1 = {'a':1,'b':2}\n",
    "dict2 = {'b':1,'c':4}\n",
    "\n",
    "merged_dict = {**dict1, **dict2}\n",
    "print(merged_dict)"
   ]
  },
  {
   "cell_type": "code",
   "execution_count": null,
   "metadata": {},
   "outputs": [],
   "source": []
  }
 ],
 "metadata": {
  "kernelspec": {
   "display_name": "Python 3",
   "language": "python",
   "name": "python3"
  },
  "language_info": {
   "codemirror_mode": {
    "name": "ipython",
    "version": 3
   },
   "file_extension": ".py",
   "mimetype": "text/x-python",
   "name": "python",
   "nbconvert_exporter": "python",
   "pygments_lexer": "ipython3",
   "version": "3.12.0"
  }
 },
 "nbformat": 4,
 "nbformat_minor": 2
}
