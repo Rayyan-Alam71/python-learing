{
 "cells": [
  {
   "cell_type": "markdown",
   "metadata": {},
   "source": [
    "File Operations - Read and Write file"
   ]
  },
  {
   "cell_type": "code",
   "execution_count": 4,
   "metadata": {},
   "outputs": [
    {
     "name": "stdout",
     "output_type": "stream",
     "text": [
      "Hello, how are you man?\n",
      "This is Rayyan Alam.\n",
      "Nice to meet you.\n",
      "\n",
      "Hello, how are you man?\n",
      "This is Rayyan Alam.\n",
      "Nice to meet you.\n"
     ]
    }
   ],
   "source": [
    "### Read and Write file\n",
    "\n",
    "with open('example.txt', 'r') as file:\n",
    "    content = file.read() # content will read the whle file\n",
    "    print(content)\n",
    "\n",
    "print()\n",
    "# read line by line\n",
    "\n",
    "with open('example.txt', 'r') as file:\n",
    "    for line in file : \n",
    "        print(line.strip()) # strip() method removes the newline character"
   ]
  },
  {
   "cell_type": "code",
   "execution_count": 9,
   "metadata": {},
   "outputs": [],
   "source": [
    "## Writing to a file (over-writing)\n",
    "\n",
    "with open('exmaple.txt', 'w') as file:\n",
    "    file.write(\"Hello World (over-written) \\n\")\n",
    "    file.write(\"Again a new line addedd\")\n",
    "\n"
   ]
  },
  {
   "cell_type": "code",
   "execution_count": 10,
   "metadata": {},
   "outputs": [],
   "source": [
    "# Write a file w\\o overwriting\n",
    "\n",
    "with open('exmaple.txt', 'a') as file:\n",
    "    file.write(\"\\nAppend operation taking place\")"
   ]
  },
  {
   "cell_type": "code",
   "execution_count": 12,
   "metadata": {},
   "outputs": [],
   "source": [
    "## Write list of lines to a file\n",
    "\n",
    "lines = ['First line\\n', 'Second line\\n', 'Third line\\n', 'fourth line\\n']\n",
    "with open('example2.txt', 'a') as file:\n",
    "    file.writelines(lines)"
   ]
  },
  {
   "cell_type": "markdown",
   "metadata": {},
   "source": [
    "Working with binary files\n"
   ]
  },
  {
   "cell_type": "code",
   "execution_count": 14,
   "metadata": {},
   "outputs": [
    {
     "name": "stdout",
     "output_type": "stream",
     "text": [
      "b'\\x00\\x01\\x02\\x03\\x04'\n"
     ]
    }
   ],
   "source": [
    "## Binary files\n",
    "\n",
    "# we update bytes in binary file(s)\n",
    "\n",
    "data = b'\\x00\\x01\\x02\\x03\\x04'\n",
    "with open('example.bin', 'wb') as file:\n",
    "    file.write(data)\n",
    "\n",
    "with open('example.bin', 'rb') as file:\n",
    "    content = file.read()\n",
    "    print(content)"
   ]
  },
  {
   "cell_type": "code",
   "execution_count": 16,
   "metadata": {},
   "outputs": [],
   "source": [
    "#### Read the content from a source text file and write it to a destinaion text file\n",
    "\n",
    "with open('source.txt', 'r') as source_file:\n",
    "    content = source_file.read()\n",
    "\n",
    "with open('destination.txt', 'w') as destination_file:\n",
    "    destination_file.write(content)\n"
   ]
  },
  {
   "cell_type": "code",
   "execution_count": 19,
   "metadata": {},
   "outputs": [
    {
     "name": "stdout",
     "output_type": "stream",
     "text": [
      "Lines : 8, Words: 29, Characters : 186\n"
     ]
    }
   ],
   "source": [
    "## Read a text file and count the number of lines, words and characters\n",
    "def count(filePath):\n",
    "    with open(filePath, 'r') as file:\n",
    "        lines = file.readlines()\n",
    "        line_count = len(lines)\n",
    "        word_count = 0\n",
    "        for line in lines:\n",
    "            word_count = word_count +len(line.split())\n",
    "\n",
    "        char_count = 0\n",
    "        for line in lines:\n",
    "            char_count = char_count + len(line)\n",
    "    \n",
    "    return line_count, word_count, char_count\n",
    "\n",
    "lines, words, chars = count('source.txt')\n",
    "print(f'Lines : {lines}, Words: {words}, Characters : {chars}')\n",
    "\n"
   ]
  },
  {
   "cell_type": "code",
   "execution_count": 24,
   "metadata": {},
   "outputs": [
    {
     "name": "stdout",
     "output_type": "stream",
     "text": [
      "hello world\n",
      "This is a new line\n",
      "\n"
     ]
    }
   ],
   "source": [
    "### Writing and then reading a file\n",
    "\n",
    "# w+ mode in python is used to open a file for both reading and writing. If the file\n",
    "# doesnot exitst , it will be created, if it already exists its content will be overwritten\n",
    "\n",
    "with open('newFile.txt', 'w+') as file :\n",
    "    file.write(\"hello world\\n\")\n",
    "    file.write(\"This is a new line\\n\")\n",
    "\n",
    "    # move to the file cursor from 2nd (end line) to the beginning to read te file\n",
    "    # lest it won't read any line \n",
    "\n",
    "    file.seek(0)\n",
    "\n",
    "    # Read the content \n",
    "    content = file.read()\n",
    "    print(content)\n"
   ]
  },
  {
   "cell_type": "code",
   "execution_count": 26,
   "metadata": {},
   "outputs": [
    {
     "name": "stdout",
     "output_type": "stream",
     "text": [
      "['destination.txt', 'example.bin', 'example.txt', 'example2.txt', 'exmaple.txt', 'fileOp.ipynb', 'newFile.txt', 'source.txt']\n"
     ]
    }
   ],
   "source": [
    "## Listing files and directories (of current working directory)\n",
    "import os\n",
    "items = os.listdir('.')\n",
    "print(items)"
   ]
  },
  {
   "cell_type": "code",
   "execution_count": 29,
   "metadata": {},
   "outputs": [
    {
     "name": "stdout",
     "output_type": "stream",
     "text": [
      "folder\\file.txt\n",
      "c:\\Users\\AIO\\OneDrive\\Desktop\\python\\6-File-Operations\\folder\\file.txt\n"
     ]
    }
   ],
   "source": [
    "### Joining paths\n",
    "\n",
    "dir_name = 'folder'\n",
    "file_name = 'file.txt'\n",
    "# create a path \n",
    "\n",
    "full_path = os.path.join(dir_name, file_name)\n",
    "print(full_path)\n",
    "\n",
    "full_path_2 = os.path.join(os.getcwd(),dir_name, file_name)\n",
    "print(full_path_2)"
   ]
  },
  {
   "cell_type": "code",
   "execution_count": 31,
   "metadata": {},
   "outputs": [
    {
     "name": "stdout",
     "output_type": "stream",
     "text": [
      "The path 'example.txt' exists\n"
     ]
    }
   ],
   "source": [
    "path  = 'example.txt'\n",
    "if os.path.exists(path):\n",
    "    print(f\"The path '{path}' exists\")\n",
    "else:\n",
    "    print('The path does not exist')"
   ]
  },
  {
   "cell_type": "code",
   "execution_count": 39,
   "metadata": {},
   "outputs": [
    {
     "name": "stdout",
     "output_type": "stream",
     "text": [
      "This path c:\\Users\\AIO\\OneDrive\\Desktop\\python\\6-File-Operations is a directory\n"
     ]
    }
   ],
   "source": [
    "# checking if a path is a file or directory\n",
    "\n",
    "import os\n",
    "path = os.getcwd()\n",
    "\n",
    "if os.path.isfile(path):\n",
    "    print(f\"This path {path} is a file\")\n",
    "elif os.path.isdir(path):\n",
    "    print(f\"This path {path} is a directory\")\n",
    "else:\n",
    "    print(\"this is neither a file nor a directory\")\n"
   ]
  },
  {
   "cell_type": "code",
   "execution_count": 40,
   "metadata": {},
   "outputs": [
    {
     "name": "stdout",
     "output_type": "stream",
     "text": [
      "c:\\Users\\AIO\\OneDrive\\Desktop\\python\\6-File-Operations\\source.txt\n"
     ]
    }
   ],
   "source": [
    "## Getting the absolute path\n",
    "\n",
    "relative_path = 'source.txt'\n",
    "absolute_path = os.path.abspath(relative_path)\n",
    "print(absolute_path)"
   ]
  },
  {
   "cell_type": "code",
   "execution_count": null,
   "metadata": {},
   "outputs": [],
   "source": []
  },
  {
   "cell_type": "markdown",
   "metadata": {},
   "source": []
  }
 ],
 "metadata": {
  "kernelspec": {
   "display_name": "venv",
   "language": "python",
   "name": "python3"
  },
  "language_info": {
   "codemirror_mode": {
    "name": "ipython",
    "version": 3
   },
   "file_extension": ".py",
   "mimetype": "text/x-python",
   "name": "python",
   "nbconvert_exporter": "python",
   "pygments_lexer": "ipython3",
   "version": "3.12.0"
  }
 },
 "nbformat": 4,
 "nbformat_minor": 2
}
