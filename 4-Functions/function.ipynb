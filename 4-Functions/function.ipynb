{
 "cells": [
  {
   "cell_type": "markdown",
   "metadata": {},
   "source": [
    "## Functions in Python\n",
    " A function is a block of code tha perofrms a specific task.It helps in organizing code, increasimg resabilt"
   ]
  },
  {
   "cell_type": "markdown",
   "metadata": {},
   "source": []
  },
  {
   "cell_type": "code",
   "execution_count": 1,
   "metadata": {},
   "outputs": [],
   "source": [
    "# Syntsx\n",
    "def function_name(parameters):\n",
    "    \"docstring\"\n",
    "    # function body\n",
    "    return expression"
   ]
  },
  {
   "cell_type": "code",
   "execution_count": 6,
   "metadata": {},
   "outputs": [
    {
     "name": "stdout",
     "output_type": "stream",
     "text": [
      "the number is odd\n"
     ]
    }
   ],
   "source": [
    "num= 23\n",
    "def is_even(num):\n",
    "    if(num%2 == 0):\n",
    "        print(\"the number is even\")\n",
    "        # return True\n",
    "    else:\n",
    "        print(\"the number is odd\")\n",
    "        # return False\n",
    "    \n",
    "is_even(num)\n",
    "# if ans:print(\"the ans is even\")\n",
    "# else: print(\"the num is odd\")"
   ]
  },
  {
   "cell_type": "code",
   "execution_count": null,
   "metadata": {},
   "outputs": [],
   "source": [
    "# function with multiple params\n",
    "\n",
    "def add(a,b,c):\n",
    "    # c=a+b+c\n",
    "    # return c\n",
    "    return a+b+c\n",
    "\n",
    "\n",
    "ans = add(1,2,3)\n",
    "print(ans)"
   ]
  },
  {
   "cell_type": "code",
   "execution_count": 12,
   "metadata": {},
   "outputs": [
    {
     "name": "stdout",
     "output_type": "stream",
     "text": [
      "Hello Rayyan Alam\n",
      "hello default_name\n"
     ]
    }
   ],
   "source": [
    "# default parameters\n",
    "\n",
    "def greet(name):\n",
    "    print(f\"Hello {name}\")\n",
    "\n",
    "greet(\"Rayyan Alam\")\n",
    "\n",
    "# ---------------------- With default parameter-------------------\n",
    "\n",
    "def greet1(name=\"default_name\"):\n",
    "    print(f\"hello {name}\")\n",
    "greet1()\n"
   ]
  },
  {
   "cell_type": "code",
   "execution_count": null,
   "metadata": {},
   "outputs": [],
   "source": [
    "# variable length argument\n",
    "    # Positional and keywords arguments\n",
    "\n",
    "def print_nums(*args):\n",
    "    for num in args:\n",
    "        print(num)\n",
    "\n",
    "print_nums(1,2,3,\"alam\",4,5,6,7)\n"
   ]
  },
  {
   "cell_type": "code",
   "execution_count": 17,
   "metadata": {},
   "outputs": [
    {
     "name": "stdout",
     "output_type": "stream",
     "text": [
      "name : Rayyan\n",
      "age : 23\n",
      "city : India\n"
     ]
    }
   ],
   "source": [
    "# Keywords argument (kwargs for standard practice)\n",
    "# all the params will be in the key-value pairs in keyword argument \n",
    "\n",
    "def print_details(**kwargs):\n",
    "    for key, value in kwargs.items():\n",
    "        print(f\"{key} : {value}\")\n",
    "\n",
    "print_details(name=\"Rayyan\" , age=23, city=\"India\")"
   ]
  },
  {
   "cell_type": "code",
   "execution_count": 24,
   "metadata": {},
   "outputs": [
    {
     "name": "stdout",
     "output_type": "stream",
     "text": [
      "Positional arg: 1\n",
      "Positional arg: 2\n",
      "Positional arg: 3\n",
      "Positional arg: 4\n",
      "Positional arg: 5\n",
      "Positional arg: 6\n",
      "Positional arg: 7\n",
      "\n",
      "keword argument => name : Rayyan Alam\n",
      "keword argument => age : 32\n",
      "keword argument => country : India\n"
     ]
    }
   ],
   "source": [
    "def print_comp(*args, **kwargs):\n",
    "    for val in args:\n",
    "        print(f\"Positional arg: {val}\")\n",
    "    print()\n",
    "    for k, v in kwargs.items():\n",
    "        print(f\"keword argument => {k} : {v}\")\n",
    "\n",
    "print_comp(1,2,3,4,5,6,7, name=\"Rayyan Alam\", age= 32, country=\"India\")"
   ]
  },
  {
   "cell_type": "code",
   "execution_count": 25,
   "metadata": {},
   "outputs": [
    {
     "name": "stdout",
     "output_type": "stream",
     "text": [
      "(6, 2)\n"
     ]
    }
   ],
   "source": [
    "# return statement\n",
    "\n",
    "def mumt(a,b):\n",
    "    return a*b, a\n",
    "\n",
    "print(mumt(2,3))"
   ]
  },
  {
   "cell_type": "markdown",
   "metadata": {},
   "source": [
    "## Function examples\n"
   ]
  },
  {
   "cell_type": "code",
   "execution_count": null,
   "metadata": {},
   "outputs": [],
   "source": [
    "# Temperature conversion\n",
    "\n",
    "def convert_temp(temp, unit):\n",
    "    if unit == 'C':\n",
    "        return temp * 9/5 + 32\n",
    "    if unit == 'F':\n",
    "        return temp *"
   ]
  },
  {
   "cell_type": "code",
   "execution_count": null,
   "metadata": {},
   "outputs": [],
   "source": []
  },
  {
   "cell_type": "code",
   "execution_count": null,
   "metadata": {},
   "outputs": [],
   "source": []
  },
  {
   "cell_type": "code",
   "execution_count": null,
   "metadata": {},
   "outputs": [],
   "source": []
  },
  {
   "cell_type": "code",
   "execution_count": null,
   "metadata": {},
   "outputs": [],
   "source": []
  },
  {
   "cell_type": "code",
   "execution_count": null,
   "metadata": {},
   "outputs": [],
   "source": []
  },
  {
   "cell_type": "code",
   "execution_count": null,
   "metadata": {},
   "outputs": [],
   "source": []
  },
  {
   "cell_type": "markdown",
   "metadata": {},
   "source": []
  }
 ],
 "metadata": {
  "kernelspec": {
   "display_name": "venv",
   "language": "python",
   "name": "python3"
  },
  "language_info": {
   "codemirror_mode": {
    "name": "ipython",
    "version": 3
   },
   "file_extension": ".py",
   "mimetype": "text/x-python",
   "name": "python",
   "nbconvert_exporter": "python",
   "pygments_lexer": "ipython3",
   "version": "3.12.0"
  }
 },
 "nbformat": 4,
 "nbformat_minor": 2
}
