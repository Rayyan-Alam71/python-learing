{
 "cells": [
  {
   "cell_type": "markdown",
   "metadata": {},
   "source": [
    "# The filter() function in Python\n",
    "\n",
    "The filter() function constructs an iterator from elements of an iterable for which a functin returns true. It is used tofilter out items from a list (or any other iterable) based on a condition"
   ]
  },
  {
   "cell_type": "code",
   "execution_count": 1,
   "metadata": {},
   "outputs": [
    {
     "data": {
      "text/plain": [
       "False"
      ]
     },
     "execution_count": 1,
     "metadata": {},
     "output_type": "execute_result"
    }
   ],
   "source": [
    "def even(num):\n",
    "    if num % 2 == 0 : return True\n",
    "    return False\n",
    "\n",
    "even(21)"
   ]
  },
  {
   "cell_type": "code",
   "execution_count": 4,
   "metadata": {},
   "outputs": [
    {
     "data": {
      "text/plain": [
       "[2, 4, 6, 8, 10]"
      ]
     },
     "execution_count": 4,
     "metadata": {},
     "output_type": "execute_result"
    }
   ],
   "source": [
    "lst = [1,2,3,4,5,6,7,8,9,10]\n",
    "\n",
    "list(filter(even , lst))"
   ]
  },
  {
   "cell_type": "code",
   "execution_count": 6,
   "metadata": {},
   "outputs": [
    {
     "name": "stdout",
     "output_type": "stream",
     "text": [
      "[6, 7, 8, 9, 10]\n"
     ]
    }
   ],
   "source": [
    "# filter with a lamda function\n",
    "\n",
    "nums = [1,2,3,4,5,6,7,8,9,10]\n",
    "\n",
    "gretaer_than_5 = list(filter(lambda x : x >5, lst))\n",
    "print(gretaer_than_5)"
   ]
  },
  {
   "cell_type": "code",
   "execution_count": 8,
   "metadata": {},
   "outputs": [
    {
     "name": "stdout",
     "output_type": "stream",
     "text": [
      "[6, 8, 10]\n"
     ]
    }
   ],
   "source": [
    "# filter with a lamda function and multiple condition\n",
    "\n",
    "nums = [1,2,3,4,5,6,7,8,9,10]\n",
    "even_and_greater_than_five = list(filter(lambda x:x>5 and x%2==0, nums))\n",
    "print(even_and_greater_than_five)\n"
   ]
  },
  {
   "cell_type": "code",
   "execution_count": 9,
   "metadata": {},
   "outputs": [
    {
     "name": "stdout",
     "output_type": "stream",
     "text": [
      "[{'name': 'naik', 'age': 31}, {'name': 'krish', 'age': 34}]\n"
     ]
    }
   ],
   "source": [
    "# filter() to chck if the age is greater than 25 in a given dictionary\n",
    "\n",
    "people = [\n",
    "    {'name':'rayyan', 'age':23},\n",
    "    {'name':'naik', 'age':31},\n",
    "    {'name':'krish', 'age':34},\n",
    "]\n",
    "\n",
    "def greater_than_five(person):\n",
    "    return person['age']>25\n",
    "\n",
    "\n",
    "answer = list(filter(greater_than_five , people))\n",
    "print(answer)"
   ]
  },
  {
   "cell_type": "code",
   "execution_count": null,
   "metadata": {},
   "outputs": [],
   "source": []
  }
 ],
 "metadata": {
  "kernelspec": {
   "display_name": "venv",
   "language": "python",
   "name": "python3"
  },
  "language_info": {
   "codemirror_mode": {
    "name": "ipython",
    "version": 3
   },
   "file_extension": ".py",
   "mimetype": "text/x-python",
   "name": "python",
   "nbconvert_exporter": "python",
   "pygments_lexer": "ipython3",
   "version": "3.12.0"
  }
 },
 "nbformat": 4,
 "nbformat_minor": 2
}
