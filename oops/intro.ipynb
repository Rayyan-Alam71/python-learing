{
 "cells": [
  {
   "cell_type": "markdown",
   "metadata": {},
   "source": [
    "## Object Oriented Programming\n"
   ]
  },
  {
   "cell_type": "markdown",
   "metadata": {},
   "source": [
    "Classes are blueprint that define the methods and attributes for the objects."
   ]
  },
  {
   "cell_type": "code",
   "execution_count": 3,
   "metadata": {},
   "outputs": [
    {
     "name": "stdout",
     "output_type": "stream",
     "text": [
      "The car runs of petrol\n"
     ]
    }
   ],
   "source": [
    "# Classes and Objects\n",
    "\n",
    "class Car:\n",
    "    #constructor\n",
    "    def __init__(self, doors, windows, engineType):\n",
    "        self.doors = doors\n",
    "        self.windows = windows\n",
    "        self.engineType = engineType\n",
    "    def drive(self):\n",
    "        print(f\"The car runs of {self.engineType}\")\n",
    "\n",
    "audi = Car(4, 4, \"petrol\")\n",
    "audi.drive()\n"
   ]
  },
  {
   "cell_type": "markdown",
   "metadata": {},
   "source": [
    "### Inheritance =>\n",
    " deriving attributes and/or methods from parent class without explicitly defining it in the child class"
   ]
  },
  {
   "cell_type": "code",
   "execution_count": 5,
   "metadata": {},
   "outputs": [
    {
     "name": "stdout",
     "output_type": "stream",
     "text": [
      "4\n",
      "The car runs of electric\n",
      "Tesla supports self-driving: True\n"
     ]
    }
   ],
   "source": [
    "class Tesla(Car):\n",
    "    #constructor \n",
    "    def __init__(self, doors, windows, engineType, isSelfDrive):\n",
    "        super().__init__(windows, doors, engineType)\n",
    "        self.isSelfDrive = isSelfDrive\n",
    "    \n",
    "    def selfDriving(self):\n",
    "        print(f\"Tesla supports self-driving: {self.isSelfDrive}\")\n",
    "    \n",
    "\n",
    "tsla = Tesla(4, 5, \"electric\", True)\n",
    "print(tsla.windows)\n",
    "tsla.drive()\n",
    "tsla.selfDriving()"
   ]
  },
  {
   "cell_type": "code",
   "execution_count": 10,
   "metadata": {},
   "outputs": [
    {
     "name": "stdout",
     "output_type": "stream",
     "text": [
      "Buddy says whoof\n",
      "Owner : Rayyan\n"
     ]
    }
   ],
   "source": [
    "## MULTIPLE INHERITANCE\n",
    "\n",
    "# When a class inherits from more than one base class\n",
    "\n",
    "## Base Class 1 (from which the child class inherits)\n",
    "class Animal:\n",
    "    #constructor\n",
    "    def __init__(self, name):\n",
    "        self.name = name\n",
    "    \n",
    "    def speak(self):\n",
    "        print(f\"Subclass must implement this method\")\n",
    "\n",
    "## Base class 2\n",
    "class Pet:\n",
    "    def __init__(self, owner):\n",
    "        self.owner = owner\n",
    "\n",
    "## Derived class\n",
    "class Dog(Animal, Pet):\n",
    "    ## accessign name form Animal AND owner from Pet class\n",
    "\n",
    "    def __init__(self, name, owner):\n",
    "        # when u have more than one base class, u cant simply use super keyword\n",
    "        Animal.__init__(self ,name)\n",
    "        Pet.__init__(self, owner)\n",
    "\n",
    "    def speak(self):\n",
    "        return f\"{self.name} says whoof\"\n",
    "    \n",
    "## Create an object\n",
    "\n",
    "dog = Dog(\"Buddy\", \"Rayyan\")\n",
    "# NOTE : we too have one speak method defined in the Animal class, but the child's speak method will be given more priority\n",
    "print(dog.speak())\n",
    "\n",
    "print(f\"Owner : {dog.owner}\") # this is being inherited from the base class , Pet"
   ]
  },
  {
   "cell_type": "markdown",
   "metadata": {},
   "source": [
    "### Polymorphism\n",
    "\n",
    "It is a core concept in OOPS thal allows objects of different classes to be treated as objects of a common superclass. It provides a way to perform a single action in different forms.\n",
    "\n",
    "It is typically achieved through method overriding and interfaces\n"
   ]
  },
  {
   "cell_type": "markdown",
   "metadata": {},
   "source": [
    "### Method Overriding\n",
    "\n",
    "It allows a child class to provide a specific impleentation of a method that is already defined in its parent class.\n"
   ]
  },
  {
   "cell_type": "code",
   "execution_count": 13,
   "metadata": {},
   "outputs": [
    {
     "name": "stdout",
     "output_type": "stream",
     "text": [
      "Whoof\n",
      "Meow\n",
      "Whoof\n"
     ]
    }
   ],
   "source": [
    "## Method Overriding\n",
    "\n",
    "\n",
    "## Base Class\n",
    "class Animal:\n",
    "    def speak(self):\n",
    "        return \"Sound of the animal\"\n",
    "\n",
    "# Derived class 1\n",
    "class Dog(Animal):\n",
    "    def speak(self):\n",
    "        # The same method is already defined in the base class, but we are defining it in our own way\n",
    "        return \"Whoof\"\n",
    "\n",
    "# Derived class 2\n",
    "class Cat(Animal):\n",
    "    def speak(self):\n",
    "        return \"Meow\"\n",
    "\n",
    "## Function that demonstates polymorphism\n",
    "def animal_speak(animal):\n",
    "    print(animal.speak())\n",
    "\n",
    "\n",
    "# See the same \"speak\" method is being overridden in the derived classes as per their own need(s)\n",
    "dog= Dog()\n",
    "cat = Cat()\n",
    "print(dog.speak())\n",
    "print(cat.speak())\n",
    "\n",
    "animal_speak(dog)\n"
   ]
  },
  {
   "cell_type": "code",
   "execution_count": 19,
   "metadata": {},
   "outputs": [
    {
     "name": "stdout",
     "output_type": "stream",
     "text": [
      "The area is 200 sq. units\n",
      "The area is 100 sq. units\n",
      "The area is 78.53981633974483 sq. units\n"
     ]
    }
   ],
   "source": [
    "## Polymorphism with functions and methods\n",
    "from math import pi\n",
    "# base class\n",
    "class Shape():\n",
    "    def area(self):\n",
    "        return \"The area of thr figure\"\n",
    "\n",
    "# Derived class 1\n",
    "class Rectangle(Shape):\n",
    "    # constructor\n",
    "    def __init__(self, width, length):\n",
    "        self.width = width\n",
    "        self.lenght = length\n",
    "    \n",
    "    # Overriding the area method\n",
    "    def area(self):\n",
    "        return self.width * self.lenght\n",
    "    \n",
    "# Derived class 2\n",
    "class Square(Shape):\n",
    "    def __init__(self, length):\n",
    "        self.length = length\n",
    "    \n",
    "    def area(self):\n",
    "        return self.length**2\n",
    "\n",
    "class Circle(Shape):\n",
    "    def __init__(self, radius):\n",
    "        self.radius = radius\n",
    "    \n",
    "    def area(self):\n",
    "        area = pi*self.radius**2\n",
    "        return area\n",
    "\n",
    "# A function that demonstrates polymophism\n",
    "\n",
    "def print_area(shape):\n",
    "    print(f\"The area is {shape.area()} sq. units\")\n",
    "\n",
    "rect = Rectangle(10, 20)\n",
    "sq = Square(10)\n",
    "circle = Circle(5)\n",
    "\n",
    "print_area(rect)\n",
    "print_area(sq)\n",
    "print_area(circle)"
   ]
  },
  {
   "cell_type": "markdown",
   "metadata": {},
   "source": [
    "### Polymorphism with Abstarct Base Classes (ABCs)\n",
    "\n",
    "ABCs are used to define common methods for group of related objects. They can enforce derived classes implement particular method(s), promoting consistency across different implementation"
   ]
  },
  {
   "cell_type": "code",
   "execution_count": 20,
   "metadata": {},
   "outputs": [
    {
     "name": "stdout",
     "output_type": "stream",
     "text": [
      "Car engine started\n",
      "Motorcycle engine started\n"
     ]
    }
   ],
   "source": [
    "## Interfaces (Poly. with abstract base class)\n",
    "\n",
    "from abc import ABC, abstractmethod\n",
    "# ABC are like empty classes just with overview of what would gonne be there in the class\n",
    "\n",
    "# Define an absract class \n",
    "class Vehicle(ABC):\n",
    "    def start_engine(self):\n",
    "        pass\n",
    "\n",
    "# Derived class q\n",
    "class Car(Vehicle):\n",
    "    def start_engine(self):\n",
    "        return \"Car engine started\"\n",
    "\n",
    "# Derived class 2\n",
    "class Motorcycle(Vehicle):\n",
    "    def start_engine(self):\n",
    "        return \"Motorcycle engine started\"\n",
    "    \n",
    "# thus the same method (start_engine()) is defined diffeerently in both the derived classes\n",
    "\n",
    "# Function that demonstrates polymorphism\n",
    "\n",
    "def start_vehile(vehicle):\n",
    "    print(vehicle.start_engine())\n",
    "\n",
    "# Creating object(s)\n",
    "car = Car()\n",
    "motorcycle = Motorcycle()\n",
    "start_vehile(car)\n",
    "start_vehile(motorcycle)"
   ]
  },
  {
   "cell_type": "markdown",
   "metadata": {},
   "source": [
    "### Encapsulation and Abstraction\n",
    "These are 2 fundamental principles of OOP that help in deigning robust, maintainable, and reusable code.\n",
    "\n",
    "Encapsulation involves bundling of data and methods that operate on the data within a single unit. \n",
    "\n",
    "While, abstraction invloves hiding complex implementation details and exposing only the necessary features."
   ]
  },
  {
   "cell_type": "code",
   "execution_count": null,
   "metadata": {},
   "outputs": [],
   "source": []
  },
  {
   "cell_type": "code",
   "execution_count": null,
   "metadata": {},
   "outputs": [],
   "source": []
  },
  {
   "cell_type": "code",
   "execution_count": null,
   "metadata": {},
   "outputs": [],
   "source": []
  }
 ],
 "metadata": {
  "kernelspec": {
   "display_name": "Python 3",
   "language": "python",
   "name": "python3"
  },
  "language_info": {
   "codemirror_mode": {
    "name": "ipython",
    "version": 3
   },
   "file_extension": ".py",
   "mimetype": "text/x-python",
   "name": "python",
   "nbconvert_exporter": "python",
   "pygments_lexer": "ipython3",
   "version": "3.12.0"
  }
 },
 "nbformat": 4,
 "nbformat_minor": 2
}
