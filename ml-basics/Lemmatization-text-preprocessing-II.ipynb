{
 "cells": [
  {
   "cell_type": "markdown",
   "id": "8af3c74b-7980-47b1-9d34-c486cc25616b",
   "metadata": {},
   "source": [
    "### Wordnet Lemmatizer\n",
    "\n",
    "Lemmatization technique is like stemming. The output we will get after lemmatization is called 'lemma', which is root-word rather than root-stem, the output of stemming. After lemmatization, we will be getting a valid word that means the same thing."
   ]
  },
  {
   "cell_type": "markdown",
   "id": "2ad7a96d-c549-4338-b655-0de84fbbf989",
   "metadata": {},
   "source": [
    "NLTK provides WordNetLemmatizer class which is a thin wrapper around the wordner corpus.The class uses morphy() function to the WordNet CorpusReader class to find a lemma. Let us understand it with an example"
   ]
  },
  {
   "cell_type": "code",
   "execution_count": 3,
   "id": "8cf40b70-1aa1-4a64-929c-d981d539acd1",
   "metadata": {},
   "outputs": [
    {
     "name": "stderr",
     "output_type": "stream",
     "text": [
      "[nltk_data] Downloading package wordnet to\n",
      "[nltk_data]     C:\\Users\\AIO\\AppData\\Roaming\\nltk_data...\n"
     ]
    },
    {
     "data": {
      "text/plain": [
       "True"
      ]
     },
     "execution_count": 3,
     "metadata": {},
     "output_type": "execute_result"
    }
   ],
   "source": [
    "import nltk\n",
    "nltk.download('wordnet')"
   ]
  },
  {
   "cell_type": "code",
   "execution_count": 6,
   "id": "7a1055e6-b905-48d0-a265-e235c8c9a783",
   "metadata": {},
   "outputs": [
    {
     "name": "stdout",
     "output_type": "stream",
     "text": [
      "go\n"
     ]
    }
   ],
   "source": [
    "from nltk.stem import WordNetLemmatizer\n",
    "\n",
    "lemmatizer = WordNetLemmatizer()\n",
    "\n",
    "print(lemmatizer.lemmatize('goes'))"
   ]
  },
  {
   "cell_type": "code",
   "execution_count": null,
   "id": "ffb97667-7bd9-4f6f-acbd-d74d7f1c804e",
   "metadata": {},
   "outputs": [],
   "source": [
    "'''\n",
    "POS =>\n",
    "Noun - n, (by default)\n",
    "Verb - v\n",
    "Adjective - a\n",
    "Adverb -r\n",
    "'''"
   ]
  },
  {
   "cell_type": "code",
   "execution_count": 12,
   "id": "f06d24d7-2a72-4340-8956-48b37d66e1d0",
   "metadata": {},
   "outputs": [
    {
     "name": "stdout",
     "output_type": "stream",
     "text": [
      "going\n",
      "go\n",
      "tall\n",
      "slowly\n"
     ]
    }
   ],
   "source": [
    "print(lemmatizer.lemmatize('going', 'n'))\n",
    "print(lemmatizer.lemmatize('going', 'v'))\n",
    "print(lemmatizer.lemmatize('tallest', 'a'))\n",
    "print(lemmatizer.lemmatize('slowly', 'r'))"
   ]
  },
  {
   "cell_type": "code",
   "execution_count": 13,
   "id": "4c779ac0-e931-42aa-bcbd-938d8d7e6014",
   "metadata": {},
   "outputs": [],
   "source": [
    "words = [\"eating\", \"eats\", \"eaten\", \"writing\", \"writes\", \"written\", \"programming\", \"programs\", \"programmed\", \"history\", \"finally\", \"finalize\"]"
   ]
  },
  {
   "cell_type": "code",
   "execution_count": 21,
   "id": "49bfea6f-0692-4904-927d-4c9f405156a8",
   "metadata": {},
   "outputs": [
    {
     "name": "stdout",
     "output_type": "stream",
     "text": [
      "eating ---> eating  (considered as a noun)\n",
      "eating ---> eat   (considered as a verb)\n",
      "\n",
      "eats ---> eats  (considered as a noun)\n",
      "eats ---> eat   (considered as a verb)\n",
      "\n",
      "eaten ---> eaten  (considered as a noun)\n",
      "eaten ---> eat   (considered as a verb)\n",
      "\n",
      "writing ---> writing  (considered as a noun)\n",
      "writing ---> write   (considered as a verb)\n",
      "\n",
      "writes ---> writes  (considered as a noun)\n",
      "writes ---> write   (considered as a verb)\n",
      "\n",
      "written ---> written  (considered as a noun)\n",
      "written ---> write   (considered as a verb)\n",
      "\n",
      "programming ---> programming  (considered as a noun)\n",
      "programming ---> program   (considered as a verb)\n",
      "\n",
      "programs ---> program  (considered as a noun)\n",
      "programs ---> program   (considered as a verb)\n",
      "\n",
      "programmed ---> programmed  (considered as a noun)\n",
      "programmed ---> program   (considered as a verb)\n",
      "\n",
      "history ---> history  (considered as a noun)\n",
      "history ---> history   (considered as a verb)\n",
      "\n",
      "finally ---> finally  (considered as a noun)\n",
      "finally ---> finally   (considered as a verb)\n",
      "\n",
      "finalize ---> finalize  (considered as a noun)\n",
      "finalize ---> finalize   (considered as a verb)\n",
      "\n"
     ]
    }
   ],
   "source": [
    "for word in words:\n",
    "    print(word +\" ---> \"+lemmatizer.lemmatize(word, 'n') +\"  (considered as a noun)\")\n",
    "    print(word +\" ---> \"+lemmatizer.lemmatize(word, 'v')+\"   (considered as a verb)\\n\")"
   ]
  },
  {
   "cell_type": "code",
   "execution_count": 8,
   "id": "1c15a970-4e56-41b8-9943-2a492308963f",
   "metadata": {},
   "outputs": [
    {
     "name": "stdout",
     "output_type": "stream",
     "text": [
      "go\n"
     ]
    }
   ],
   "source": [
    "from nltk.stem import WordNetLemmatizer\n",
    "\n",
    "lemm = WordNetLemmatizer()\n",
    "\n",
    "print(lemm.lemmatize(\"goes\", \"v\"))"
   ]
  },
  {
   "cell_type": "code",
   "execution_count": null,
   "id": "4483b281-63a6-4b54-9c5a-6348681d42ad",
   "metadata": {},
   "outputs": [],
   "source": []
  }
 ],
 "metadata": {
  "kernelspec": {
   "display_name": "Python 3 (ipykernel)",
   "language": "python",
   "name": "python3"
  },
  "language_info": {
   "codemirror_mode": {
    "name": "ipython",
    "version": 3
   },
   "file_extension": ".py",
   "mimetype": "text/x-python",
   "name": "python",
   "nbconvert_exporter": "python",
   "pygments_lexer": "ipython3",
   "version": "3.12.7"
  }
 },
 "nbformat": 4,
 "nbformat_minor": 5
}
